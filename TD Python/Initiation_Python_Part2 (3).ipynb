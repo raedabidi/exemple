{
 "cells": [
  {
   "cell_type": "markdown",
   "id": "22f7fc37",
   "metadata": {},
   "source": [
    "# 1. Conversion de type\n",
    "Dans certaines situations, il est utile de convertir une expression d'un certain type en une expression d'un autre type.   \n",
    "On utilise pour cela les fonctions de conversion de type.   \n",
    "Nous en présentons trois : **str, int et float.**  \n",
    "\n",
    "### La fonction de conversion **str**  \n",
    "Elle permet de convertir une expression en une chaine de caractères."
   ]
  },
  {
   "cell_type": "code",
   "execution_count": null,
   "id": "7de3f527",
   "metadata": {},
   "outputs": [],
   "source": [
    "age = 18\n",
    "ch = \"J'ai \" + str(age) + \" ans\"\n",
    "ch"
   ]
  },
  {
   "cell_type": "markdown",
   "id": "494f48fd",
   "metadata": {},
   "source": [
    "### Les fonctions de conversion int et float\n",
    "Elles convertissent une expression en un nombre.  \n",
    "La fonction int convertit une chaine de caractères en un nombre entier, à condition que cette chaine de caractères soit bien l'écriture d'un nombre entier.\n",
    "\n",
    "Exemple: int(\"1961\") est le nombre entier 1961. Par contre int(\"3.14159\") provoquera une erreur d'exécution."
   ]
  },
  {
   "cell_type": "code",
   "execution_count": null,
   "id": "b365cd7c",
   "metadata": {},
   "outputs": [],
   "source": [
    "int(\"1961\")"
   ]
  },
  {
   "cell_type": "code",
   "execution_count": null,
   "id": "653ae976",
   "metadata": {},
   "outputs": [],
   "source": [
    "int(\"3.14159\")"
   ]
  },
  {
   "cell_type": "markdown",
   "id": "fef2a8a6",
   "metadata": {},
   "source": [
    "La fonction float convertit une chaine de caractères en un nombre, à condition que cette chaine de caractères soit bien l'écriture d'un littéral de type numérique (entier ou non).\n",
    "\n",
    "Exemple: float(\"1961\") est le nombre 1961 et float(\"3.14159\") est le nombre 3.14150. Par contre float(\"un million\") provoquera une erreur."
   ]
  },
  {
   "cell_type": "code",
   "execution_count": null,
   "id": "5d5a1430",
   "metadata": {},
   "outputs": [],
   "source": [
    "float(\"1961\")"
   ]
  },
  {
   "cell_type": "code",
   "execution_count": null,
   "id": "e48779b0",
   "metadata": {},
   "outputs": [],
   "source": [
    "float(\"3.14159\")"
   ]
  },
  {
   "cell_type": "code",
   "execution_count": null,
   "id": "c0f66431",
   "metadata": {},
   "outputs": [],
   "source": [
    "float(\"un million\") "
   ]
  },
  {
   "cell_type": "markdown",
   "id": "afa0ef28",
   "metadata": {},
   "source": [
    "Les fonctions float et int permettent également de traduire un codage numérique en un autre:\n",
    "\n",
    "Si x est un nombre en virgule flottante, int(x) le traduit en nombre entier en prenant la partie entière. \n",
    "\n",
    "Par exemple int(3.14) vaudra 3.\n",
    "\n",
    "Si n est un nombre entier, alors float(n) est la représentation de ce nombre entier en virgule flottante.\n"
   ]
  },
  {
   "cell_type": "code",
   "execution_count": null,
   "id": "131e1af3",
   "metadata": {},
   "outputs": [],
   "source": [
    "int(3.14)"
   ]
  },
  {
   "cell_type": "code",
   "execution_count": null,
   "id": "67ec6de7",
   "metadata": {},
   "outputs": [],
   "source": [
    "float(18)"
   ]
  },
  {
   "cell_type": "markdown",
   "id": "03a9262c",
   "metadata": {},
   "source": [
    "**Essayer quelques exemples de conversion numérique:**"
   ]
  },
  {
   "cell_type": "code",
   "execution_count": null,
   "id": "758b3cef",
   "metadata": {},
   "outputs": [],
   "source": []
  },
  {
   "attachments": {
    "image.png": {
     "image/png": "[encoded data removed]"
    }
   },
   "cell_type": "markdown",
   "id": "eb7060cb",
   "metadata": {},
   "source": [
    "## Exercice 1 : Conversion de type\n",
    "Essayez de prédire le résultat de chacune des instructions suivantes, puis vérifiez-le dans l’interpréteur Python :\n",
    "![image.png](attachment:image.png)"
   ]
  },
  {
   "cell_type": "code",
   "execution_count": null,
   "id": "d8530547",
   "metadata": {},
   "outputs": [],
   "source": []
  },
  {
   "cell_type": "markdown",
   "id": "9a5f94c7",
   "metadata": {},
   "source": [
    "# 2.  Les entrées / sorties en Python"
   ]
  },
  {
   "cell_type": "markdown",
   "id": "a3dd6c93",
   "metadata": {},
   "source": [
    "## 2.1. Les entrèes"
   ]
  },
  {
   "cell_type": "markdown",
   "id": "cbda5864",
   "metadata": {},
   "source": [
    "$\\color{green}{\\text{input(): }}$saisir la donnée au clavier  \n",
    "$\\color{green}{\\text{input(): }}$ La fonction input retourne une variable de type **chaine de caractère**\n"
   ]
  },
  {
   "cell_type": "code",
   "execution_count": null,
   "id": "0483d1dd",
   "metadata": {},
   "outputs": [],
   "source": [
    "n=input()"
   ]
  },
  {
   "cell_type": "code",
   "execution_count": null,
   "id": "d435a92e",
   "metadata": {},
   "outputs": [],
   "source": [
    "n=input('message :') # \"message\""
   ]
  },
  {
   "cell_type": "code",
   "execution_count": null,
   "id": "6b3368e1",
   "metadata": {},
   "outputs": [],
   "source": [
    "a=input('saisir un entier: ')"
   ]
  },
  {
   "cell_type": "code",
   "execution_count": null,
   "id": "f45b45a4",
   "metadata": {},
   "outputs": [],
   "source": [
    "type(a)"
   ]
  },
  {
   "cell_type": "markdown",
   "id": "d671880c",
   "metadata": {},
   "source": [
    "**Convertissez la variable a en un entier et afficher le carré de a**"
   ]
  },
  {
   "cell_type": "code",
   "execution_count": null,
   "id": "4964d6df",
   "metadata": {},
   "outputs": [],
   "source": []
  },
  {
   "attachments": {
    "image.png": {
     "image/png": "[encoded data removed]"
    }
   },
   "cell_type": "markdown",
   "id": "c9b70778",
   "metadata": {},
   "source": [
    "## Exercice 2 : Conversion de type & les entrées\n",
    "Écrivez un programme qui, à partir de la saisie d’un rayon et d’une hauteur, calcule le volume d’un cône droit :  \n",
    "V = 1/3 × π×r**2 × h.\n",
    "![image.png](attachment:image.png)\n",
    "Comparez la précision de calcul avec votre calculatrice ou celle de l’ordinateur"
   ]
  },
  {
   "cell_type": "code",
   "execution_count": null,
   "id": "8c66789a",
   "metadata": {},
   "outputs": [],
   "source": []
  },
  {
   "cell_type": "markdown",
   "id": "54692078",
   "metadata": {},
   "source": [
    "## 2.2. Les sorties"
   ]
  },
  {
   "cell_type": "markdown",
   "id": "07cebeff",
   "metadata": {},
   "source": [
    "Pour afficher la valeur d’une variable, il suffit de taper son nom."
   ]
  },
  {
   "cell_type": "code",
   "execution_count": null,
   "id": "3bac758b",
   "metadata": {},
   "outputs": [],
   "source": [
    "a=10"
   ]
  },
  {
   "cell_type": "code",
   "execution_count": null,
   "id": "a6993c6b",
   "metadata": {},
   "outputs": [],
   "source": [
    "a=2\n",
    "b=3"
   ]
  },
  {
   "cell_type": "code",
   "execution_count": null,
   "id": "212c920e",
   "metadata": {},
   "outputs": [],
   "source": [
    "a"
   ]
  },
  {
   "cell_type": "code",
   "execution_count": null,
   "id": "c120eb8f",
   "metadata": {},
   "outputs": [],
   "source": [
    "b"
   ]
  },
  {
   "cell_type": "code",
   "execution_count": null,
   "id": "88314d17",
   "metadata": {},
   "outputs": [],
   "source": [
    "a\n",
    "b"
   ]
  },
  {
   "cell_type": "markdown",
   "id": "30d1e6a8",
   "metadata": {},
   "source": [
    "$\\color{green}{\\text{print(...): }}$  est la fonction d'affichage   \n",
    "Pour afficher la valeur d’une variable nommée dist:  "
   ]
  },
  {
   "cell_type": "code",
   "execution_count": null,
   "id": "81240932",
   "metadata": {},
   "outputs": [],
   "source": [
    "print(dist)  # il faut que la variable dist ait été créée avant"
   ]
  },
  {
   "cell_type": "code",
   "execution_count": null,
   "id": "551a1d61",
   "metadata": {},
   "outputs": [],
   "source": [
    "#Pour afficher un texte, on utilise des guillemets :\n",
    "print(\"Ce programme calcule des distances.\")"
   ]
  },
  {
   "cell_type": "code",
   "execution_count": null,
   "id": "b4d96506",
   "metadata": {},
   "outputs": [],
   "source": [
    "#Pour mixer les deux, on sépare avec des virgules : \n",
    "dist=23\n",
    "print(\"La distance calculée est :\",dist)"
   ]
  },
  {
   "cell_type": "markdown",
   "id": "b9f47676",
   "metadata": {},
   "source": [
    "**Afficher plusieurs variables avec une seule instruction et combiner entre message et valeur.**"
   ]
  },
  {
   "cell_type": "code",
   "execution_count": null,
   "id": "4536eb4d",
   "metadata": {},
   "outputs": [],
   "source": []
  },
  {
   "cell_type": "code",
   "execution_count": null,
   "id": "b9c0b36e",
   "metadata": {},
   "outputs": [],
   "source": []
  },
  {
   "cell_type": "markdown",
   "id": "e3d74b48",
   "metadata": {},
   "source": [
    "Pyhton ajoute automatiquement des espaces avec le séparateur ( , )."
   ]
  },
  {
   "cell_type": "markdown",
   "id": "5c4c7691",
   "metadata": {},
   "source": [
    "### Écriture formatée"
   ]
  },
  {
   "cell_type": "markdown",
   "id": "31f62ce6",
   "metadata": {},
   "source": [
    "La méthode $\\color{green}{\\text{format(): }}$ permet une meilleure organisation de l’affichage des variables."
   ]
  },
  {
   "cell_type": "code",
   "execution_count": null,
   "id": "8fde29c3",
   "metadata": {},
   "outputs": [],
   "source": [
    "x =45\n",
    "nom = \"Ali\"\n",
    "print(\"{} a {} ans\".format(nom , x))"
   ]
  },
  {
   "cell_type": "code",
   "execution_count": null,
   "id": "fd8c4f56",
   "metadata": {},
   "outputs": [],
   "source": []
  },
  {
   "cell_type": "markdown",
   "id": "f3fe1e62",
   "metadata": {},
   "source": [
    "Les accolades vides {} précisent l’endroit où le contenu de la variable doit être inséré.  \n",
    "L’instruction .format(nom, x) fournie la liste des variables à insérer, d’abord la variable nom puis la variable x"
   ]
  },
  {
   "cell_type": "code",
   "execution_count": null,
   "id": "9274e961",
   "metadata": {},
   "outputs": [],
   "source": [
    "print(\"{0} a {1} ans\".format(nom , x))"
   ]
  },
  {
   "cell_type": "code",
   "execution_count": null,
   "id": "a416d4b2",
   "metadata": {},
   "outputs": [],
   "source": [
    "print(\"{1} a {0} ans\".format(nom , x))"
   ]
  },
  {
   "cell_type": "code",
   "execution_count": null,
   "id": "4eaea735",
   "metadata": {},
   "outputs": [],
   "source": [
    "print(\"{1} a {2} ans\".format(nom , x))"
   ]
  },
  {
   "cell_type": "markdown",
   "id": "f5168a9b",
   "metadata": {},
   "source": [
    "Il est possible d’indiquer entre les accolades {} dans quel ordre afficher les variables.  \n",
    "0 pour la variable à afficher en premier, 1 pour la variable à afficher en second.  \n",
    "$\\color{red}{\\text{Attention(): }}$ Python commence à compter à 0.  \n",
    "Cela permet de modifier l’ordre dans lequel sont affichées les variables.  "
   ]
  },
  {
   "cell_type": "markdown",
   "id": "6b32b39e",
   "metadata": {},
   "source": [
    "La méthode $\\color{green}{\\text{format(): }}$ permet une meilleure organisation de l’affichage des variables."
   ]
  },
  {
   "cell_type": "code",
   "execution_count": null,
   "id": "5a46c668",
   "metadata": {},
   "outputs": [],
   "source": [
    "x = 5/3\n",
    "x"
   ]
  },
  {
   "cell_type": "code",
   "execution_count": null,
   "id": "39877f5f",
   "metadata": {},
   "outputs": [],
   "source": [
    "print(\"le résultat de la division est {:.4f} \".format(x))"
   ]
  },
  {
   "cell_type": "code",
   "execution_count": null,
   "id": "24ba02eb",
   "metadata": {},
   "outputs": [],
   "source": [
    "a=5\n",
    "b=3\n",
    "print(\"{:d} divisé par {:d} est {:.3f}\".format(a,b,x))"
   ]
  },
  {
   "cell_type": "markdown",
   "id": "5c2b531e",
   "metadata": {},
   "source": [
    "— Les deux points : indiquent qu’on veut préciser le format.  \n",
    "— La lettre f indique qu’on souhaite afficher la variable sous forme d’un float (pour les entiers on utilise la lettre d).  \n",
    "— le caractère .x  indiquent la précision voulue (x chiffres après la virgule)"
   ]
  },
  {
   "cell_type": "markdown",
   "id": "d973d620",
   "metadata": {},
   "source": [
    "## Exercice 3 : Ecriture formatée\n",
    "Ecrire un script qui permet de :\n",
    "- Lire les deux variables t et d respectivement du temps et de distance.\n",
    "- Calculer et afficher la valeur de la vitesse v.\n",
    "- Améliorer l’affichage en imposant un chiffre après le point décimal."
   ]
  },
  {
   "cell_type": "code",
   "execution_count": null,
   "id": "acd073ed",
   "metadata": {},
   "outputs": [],
   "source": []
  },
  {
   "cell_type": "markdown",
   "id": "edf1c941",
   "metadata": {},
   "source": [
    "## Exercice 4: Ecriture formatée"
   ]
  },
  {
   "cell_type": "markdown",
   "id": "c244d072",
   "metadata": {},
   "source": [
    "Dans un script pourcentage.py, calculez un pourcentage  avec l’instruction suivante :  \n",
    "            pourcent = ((4500 + 2575)/14800)*100    \n",
    "Affichez le contenu de la variable pourcent à l’écran avec 0, 1, 2 puis 3 décimales sous forme arrondie (en utilisant .format()).   \n",
    "On souhaite que le programme affiche la sortie suivante :  \n",
    "    Le pourcentage est 48 %  \n",
    "    Le pourcentage est 47.8 %   \n",
    "    Le pourcentage est 47.80 %   \n",
    "    Le pourcentage est 47.804 %\n"
   ]
  },
  {
   "cell_type": "markdown",
   "id": "ffd4fba9",
   "metadata": {},
   "source": [
    "# 3. Les chaines de caractères\n",
    "## 3.1. Définition\n",
    "Une chaine de caractères est une séquence des caractères.  \n",
    "Une chaine littérale utilise les quottes \" Bonjour\" ou ‘Bonjour’  \n",
    "Quand une chaine contient un nombre, le reste encore une chaine.   \n",
    "Pour convertir des nombres en chaines on utilise $\\color{green}{\\text{str()}}$  \n",
    "Pour convertir une chaine en un nombre on utilise $\\color{green}{\\text{int()}}$\n",
    "## 3.2. Structure d’une chaine de caractères\n",
    "On peut obtenir n’importe quel caractère d’une chaine en utilisant un index spécifié entre crochets []:\n",
    "$\\color{green}{\\text{La valeur d’index doit être un entier et commence à zéro. }}$  \n",
    "$\\color{green}{\\text{La valeur d’index peut être une expression calculée}}$   \n",
    "<img src=\"images/image2.png\" width=400, height=100>"
   ]
  },
  {
   "cell_type": "code",
   "execution_count": null,
   "id": "774f6720",
   "metadata": {},
   "outputs": [],
   "source": [
    "mot = 'Bonne'\n",
    "lettre = mot[1]\n",
    "print(lettre)\n",
    "print(type(lettre))\n",
    "x=4\n",
    "print(mot[x-2])"
   ]
  },
  {
   "cell_type": "markdown",
   "id": "54ef9eec",
   "metadata": {},
   "source": [
    "$\\color{red}{\\text{Remarque}}$  \n",
    "si l’indexe est au-delà de la fin de la chaine une erreur Python se reproduit"
   ]
  },
  {
   "cell_type": "code",
   "execution_count": null,
   "id": "3d6ac40d",
   "metadata": {},
   "outputs": [],
   "source": [
    "print(mot[5])"
   ]
  },
  {
   "attachments": {
    "image.png": {
     "image/png": "[encoded data removed]"
    }
   },
   "cell_type": "markdown",
   "id": "875a1f89",
   "metadata": {},
   "source": [
    "![image.png](attachment:image.png)"
   ]
  },
  {
   "cell_type": "code",
   "execution_count": null,
   "id": "03c32d0f",
   "metadata": {},
   "outputs": [],
   "source": [
    "ch=\"Bonjour\"                                   # définition de la chaîne  \n",
    "print(ch[0])                                       # B  \n",
    "print(ch[-1])                                     # r  "
   ]
  },
  {
   "cell_type": "code",
   "execution_count": null,
   "id": "a07d417d",
   "metadata": {},
   "outputs": [],
   "source": [
    "print(ch[1:3])                                   # extraction de sous chaînes(carcatères d’indice 1 à 3-1(on))"
   ]
  },
  {
   "cell_type": "code",
   "execution_count": null,
   "id": "f14f4bc0",
   "metadata": {},
   "outputs": [],
   "source": [
    "print(ch[:4])                                     # caractères jusqu’à l’indice 4-1 ( Bonj )"
   ]
  },
  {
   "cell_type": "code",
   "execution_count": null,
   "id": "79a6468d",
   "metadata": {},
   "outputs": [],
   "source": [
    "print(ch[2:])                                     # caractères à partir de l’indice 2 ( njour )\n",
    "print(ch[::2])                                    # chaîne avec un caractère sur 2 ( Bnor )\n",
    "print(ch[::-1])                                  # chaîne renversée ( ruojnoB )\n",
    "print(ch[::-2])                                  # ronB \n",
    "print(ch[-4:])                                   # jour "
   ]
  },
  {
   "cell_type": "code",
   "execution_count": null,
   "id": "a1994b93",
   "metadata": {},
   "outputs": [],
   "source": [
    "ch[1]='O'                  # Erreur ( Les chaînes sont read-only (non mutables), donc on ne peut pas faire ch[1] = 'O'"
   ]
  },
  {
   "cell_type": "markdown",
   "id": "1992b4d0",
   "metadata": {},
   "source": [
    "## 3.3. Opérations sur les chaînes de caractères\n",
    "Pour les chaînes de caractères, deux opérations sont possibles, l’addition et la multiplication.   \n",
    "L’opérateur d’addition $\\color{blue}{\\text{+}}$ concatène (assemble) deux chaînes de caractères.  \n",
    "L’opérateur de multiplication $\\color{blue}{\\text{*}}$ entre un nombre entier et une chaîne de caractères duplique (nombre) fois cette chaîne de caractères.  "
   ]
  },
  {
   "cell_type": "code",
   "execution_count": null,
   "id": "095792bc",
   "metadata": {},
   "outputs": [],
   "source": [
    "chaine = \"Salut \"\n",
    "print(type(chaine))\n",
    "print(chaine)\n",
    "print(chaine + \" Python \")\n",
    "print(chaine * 3)"
   ]
  },
  {
   "cell_type": "markdown",
   "id": "2b31ff0e",
   "metadata": {},
   "source": [
    "$\\color{red}{\\text{Remarque}}$   \n",
    "les opérateurs + et * se comportent différemment s’il s’agit d’entiers ou de chaînes de caractères :   \n",
    "3 + 2 est une addition alors que  \" 3\" + \"2\" est une concaténation.   \n",
    "On appelle ce comportement $\\color{blue}{\\text{redéfinition des opérateurs}}$"
   ]
  },
  {
   "cell_type": "code",
   "execution_count": null,
   "id": "f66661d8",
   "metadata": {},
   "outputs": [],
   "source": [
    "print(2+3)\n",
    "print('2'+'3')"
   ]
  },
  {
   "cell_type": "markdown",
   "id": "d5d66d10",
   "metadata": {},
   "source": [
    "## 3.4. Méthodes associées aux chaînes de caractères\n",
    "$\\color{green}{\\text{lower()}}$: renvoie un texte en minuscule.  \n",
    "$\\color{green}{\\text{upper()}}$:  renvoie un texte en majuscule.  \n",
    "$\\color{green}{\\text{capitalize()}}$: rendre la première lettre en majuscule.   \n",
    "$\\color{green}{\\text{len()}}$: calculer la longueur d’une chaine de caractères.  \n",
    "\n",
    "$\\color{blue}{\\text{N.B: l’utilisation de ces méthodes n’altère pas la chaîne de caractères de départ mais renvoie une chaîne de caractères transformée.}}$"
   ]
  },
  {
   "cell_type": "code",
   "execution_count": null,
   "id": "0b52fd06",
   "metadata": {},
   "outputs": [],
   "source": [
    "x = \"banana\"\n",
    "print(x.upper())\n",
    "print(x)"
   ]
  },
  {
   "cell_type": "code",
   "execution_count": null,
   "id": "4cd50f26",
   "metadata": {},
   "outputs": [],
   "source": [
    "' POMME '.lower()\n",
    "a=3\n",
    "a.lower()"
   ]
  },
  {
   "cell_type": "code",
   "execution_count": null,
   "id": "223dcf5a",
   "metadata": {},
   "outputs": [],
   "source": [
    "x.capitalize()"
   ]
  },
  {
   "cell_type": "code",
   "execution_count": null,
   "id": "1fbef318",
   "metadata": {},
   "outputs": [],
   "source": [
    "len(x)"
   ]
  },
  {
   "cell_type": "markdown",
   "id": "1df04e46",
   "metadata": {},
   "source": [
    "$\\color{green}{\\text{find()}}$: rechercher une chaîne de caractères passée en argument.   \n",
    "Si l’élément recherché est trouvé, alors l’indice du début de l’élément dans la chaîne de caractères est renvoyé.  \n",
    "Si l’élément recherché est trouvé plusieurs fois, seul l’indice de la première occurrence est renvoyé.  \n",
    "Si l’élément n’est pas trouvé, alors la valeur – 1 est renvoyée"
   ]
  },
  {
   "cell_type": "code",
   "execution_count": null,
   "id": "19c78a48",
   "metadata": {},
   "outputs": [],
   "source": [
    "x = \"Mes fruits: mes pommes et mes cerises\"\n",
    "x.find('fruits')"
   ]
  },
  {
   "cell_type": "code",
   "execution_count": null,
   "id": "3342d1dc",
   "metadata": {},
   "outputs": [],
   "source": [
    "x.find('aaa')"
   ]
  },
  {
   "cell_type": "code",
   "execution_count": null,
   "id": "9e815cb6",
   "metadata": {},
   "outputs": [],
   "source": [
    "x.find('es')"
   ]
  },
  {
   "cell_type": "markdown",
   "id": "16ed61cb",
   "metadata": {},
   "source": [
    "$\\color{green}{\\text{replace()}}$: qui substitue une chaîne de caractères par une autre"
   ]
  },
  {
   "cell_type": "code",
   "execution_count": null,
   "id": "2497cc6c",
   "metadata": {},
   "outputs": [],
   "source": [
    "x = \"Mes fruits pomme et cerise\"\n",
    "x.replace('pomme', 'banane')\n",
    "print(x)"
   ]
  },
  {
   "cell_type": "code",
   "execution_count": null,
   "id": "c5df313c",
   "metadata": {},
   "outputs": [],
   "source": [
    "y=x.replace('pomme', 'banane')\n",
    "print(y)"
   ]
  },
  {
   "cell_type": "markdown",
   "id": "79b2d849",
   "metadata": {},
   "source": [
    "$\\color{green}{\\text{count()}}$: compte le nombre d’occurrences d’une chaîne de caractères passée en argument."
   ]
  },
  {
   "cell_type": "code",
   "execution_count": null,
   "id": "3f8f42e0",
   "metadata": {
    "scrolled": true
   },
   "outputs": [],
   "source": [
    "x = \"aaa bb cc aaa dd aa\"\n",
    "print(x.count('aaa'))\n",
    "print(x.count('aa'))\n",
    "print(x.count('a'))"
   ]
  },
  {
   "cell_type": "markdown",
   "id": "11631682",
   "metadata": {},
   "source": [
    "## Exercice 5: les chaines de caractères\n",
    "\n",
    "Écrire un programme en Python qui:  \n",
    "- demande à l’utilisateur de saisir une chaîne de caractère ch et une sous chaine sub.\n",
    "- permet d'afficher le nombre de caractères des 2 chaines.\n",
    "- renvoi un message indiquant le nombre d'occurrences d'apparition de la sous chaine sub dans la chaine ch.\n",
    "- renvoi l'indice de la première occurrence de la sous-chaîne.\n"
   ]
  },
  {
   "cell_type": "markdown",
   "id": "d3c088b0",
   "metadata": {},
   "source": [
    "## Les chaînes de caractères: Les fonctions de test "
   ]
  },
  {
   "cell_type": "code",
   "execution_count": null,
   "id": "54392c22",
   "metadata": {},
   "outputs": [],
   "source": [
    "ch =\"python\"\n",
    "ch1=\"343\"\n",
    "ch2=\"Une Nuit Froide Et Sombre\"\n",
    "ch3= \"BIENVENUE A LA JUNGLE\""
   ]
  },
  {
   "cell_type": "code",
   "execution_count": null,
   "id": "4d643b08",
   "metadata": {},
   "outputs": [],
   "source": [
    "print (ch.isalpha())                           \n",
    "print (ch1.isalpha())                             "
   ]
  },
  {
   "cell_type": "code",
   "execution_count": null,
   "id": "d0000d5d",
   "metadata": {},
   "outputs": [],
   "source": [
    "print (ch.isalnum())                              \n",
    "print (ch1.isalnum())                            \n",
    "print (ch2.isalnum())                           "
   ]
  },
  {
   "cell_type": "code",
   "execution_count": null,
   "id": "18c2a88f",
   "metadata": {},
   "outputs": [],
   "source": [
    "print (ch2.istitle())                               \n",
    "print (ch3.istitle())                               "
   ]
  },
  {
   "cell_type": "code",
   "execution_count": null,
   "id": "83c4677f",
   "metadata": {},
   "outputs": [],
   "source": [
    "print (ch1.isdigit())                              \n",
    "print (\"3rd\".isdigit())                         "
   ]
  },
  {
   "cell_type": "code",
   "execution_count": null,
   "id": "431eb7b1",
   "metadata": {},
   "outputs": [],
   "source": [
    "print (ch3.isupper())                          \n",
    "print (ch.islower())                              \n",
    "print (\"THIS IS A MESSAGE WITH 214565\".isupper())              \n",
    "print (ch.startswith(\"p\"))                                                                 \n",
    "print (ch2.startswith(\"u\"))                                                              "
   ]
  },
  {
   "cell_type": "code",
   "execution_count": null,
   "id": "6d569478",
   "metadata": {},
   "outputs": [],
   "source": []
  }
 ],
 "metadata": {
  "kernelspec": {
   "display_name": "Python 3 (ipykernel)",
   "language": "python",
   "name": "python3"
  },
  "language_info": {
   "codemirror_mode": {
    "name": "ipython",
    "version": 3
   },
   "file_extension": ".py",
   "mimetype": "text/x-python",
   "name": "python",
   "nbconvert_exporter": "python",
   "pygments_lexer": "ipython3",
   "version": "3.11.5"
  }
 },
 "nbformat": 4,
 "nbformat_minor": 5
}
