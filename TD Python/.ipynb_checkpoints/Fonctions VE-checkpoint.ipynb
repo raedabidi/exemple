{
 "cells": [
  {
   "cell_type": "markdown",
   "id": "e91623a9",
   "metadata": {},
   "source": [
    "# Introduction"
   ]
  },
  {
   "cell_type": "markdown",
   "id": "5db70bd4",
   "metadata": {},
   "source": [
    "Exemple: Calculer le factoriel d’un entier saisie par l’utilisateur"
   ]
  },
  {
   "cell_type": "code",
   "execution_count": null,
   "id": "112851d4",
   "metadata": {},
   "outputs": [],
   "source": [
    "n=int(input(\"donner un entier: \"))\n",
    "fact=1\n",
    "i=1\n",
    "while i<=n:\n",
    "    fact=fact*i\n",
    "    i+=1\n",
    "print('factoriel de ',n, ' est: ',fact)"
   ]
  },
  {
   "cell_type": "markdown",
   "id": "b364642c",
   "metadata": {},
   "source": [
    "Pour chaque utilisation, on doit réecrire les mêmes instructions! \n",
    "\n",
    "$\\color{green}{\\text{Solution}}$: définir une fonction permet de claculer le factoriel d'un entier. "
   ]
  },
  {
   "cell_type": "markdown",
   "id": "e56852c5",
   "metadata": {},
   "source": [
    "$\\color{blue}{\\text{Rappel}}$:   \n",
    "$\\color{green}{\\text{Sous-programme}}$:  bloc d’instructions réalisant une certaine tâche.   \n",
    "Il possède un nom et est exécuté lorsqu’on l’appelle.   \n",
    "$\\color{green}{\\text{Script}}$ : programme dit principal + plusieurs sous-programmes.   \n",
    "==> Quand le programme principal fait appel à un sous-programme, il suspend son propre déroulement, exécute le sous-programme en question, et reprend ensuite son fonctionnement\n"
   ]
  },
  {
   "cell_type": "markdown",
   "id": "81b1ebc0",
   "metadata": {},
   "source": [
    "# 1. Qu’est ce qu’une fonction?"
   ]
  },
  {
   "cell_type": "markdown",
   "id": "64f64f9c",
   "metadata": {},
   "source": [
    "$\\color{green}{\\text{Sous-programme}}$: : les procédures et les fonctions.   \n",
    "$\\color{green}{\\text{Procédure}}$: un sous-programme qui fait un traitement et peut afficher des résultats à l’écran.   \n",
    "$\\color{green}{\\text{Fonction}}$: un sous-programme qui exécute une tâche, qui peut afficher  des résultats à l’écran et qui retourne un résultat.   \n",
    "---> On peut considérer la procédure comme fonction sans retour.    \n",
    "---> Réaliser plusieurs fois la même opération au sein d’un programme.    \n",
    "---> Rendre le code plus lisible et plus clair en le fractionnant en sous-programmes.   \n",
    "Exemple: len(), range(), list(), set() ……\n"
   ]
  },
  {
   "cell_type": "markdown",
   "id": "54abdefc",
   "metadata": {},
   "source": [
    "$\\color{green}{\\text{Une fonction}}$:  un morceau de code appelé à tout moment dans une autre partie du code.   \n",
    "Si on un nombre important de fonctions, il est possible de les regrouper dans des $\\color{red}{\\text{modules}}$ \n",
    "\n",
    "\n",
    "$\\color{red}{\\text{def}}$ nomDeLaFonction(liste de paramètres):  \n",
    "... \n",
    "\n",
    "bloc d'instructions   \n",
    "..."
   ]
  },
  {
   "cell_type": "code",
   "execution_count": null,
   "id": "1b89ba9a",
   "metadata": {},
   "outputs": [],
   "source": [
    "#exemple:\n",
    "def fact(n):\n",
    "    fact=1\n",
    "    i=1\n",
    "    while i<=n:\n",
    "        fact=fact*i\n",
    "        i+=1\n",
    "    print('factoriel de ',n, ' est: ',fact)\n",
    "#fin fonction\n",
    "fact(3)\n",
    "fact(4)"
   ]
  },
  {
   "cell_type": "markdown",
   "id": "5b4d83f8",
   "metadata": {},
   "source": [
    "### Application 1: \n",
    "Écrire une fonction qui retourne la valeur absolue d’un entier N puis tester la fonction.\n",
    "\n"
   ]
  },
  {
   "cell_type": "code",
   "execution_count": null,
   "id": "6659f73a",
   "metadata": {},
   "outputs": [],
   "source": []
  },
  {
   "cell_type": "markdown",
   "id": "ab5c9984",
   "metadata": {},
   "source": [
    "### Application 2\n",
    "Écrire une fonction qui retourne la moyenne de deux réels x et y.\n"
   ]
  },
  {
   "cell_type": "code",
   "execution_count": null,
   "id": "65a41e5b",
   "metadata": {},
   "outputs": [],
   "source": []
  },
  {
   "cell_type": "markdown",
   "id": "29ec9b7f",
   "metadata": {},
   "source": [
    "$\\color{red}{\\text{N.B}}$: En python, une fonction peut avoir un ou plusieurs retours"
   ]
  },
  {
   "cell_type": "code",
   "execution_count": null,
   "id": "cda06749",
   "metadata": {},
   "outputs": [],
   "source": [
    "#exemple:\n",
    "def fct1(a,b):\n",
    "    return a-b\n",
    "def fct2(a,b):\n",
    "    return a-b, a+b, a*b"
   ]
  },
  {
   "cell_type": "code",
   "execution_count": null,
   "id": "5f68e858",
   "metadata": {},
   "outputs": [],
   "source": [
    "#fix me: tester fct1"
   ]
  },
  {
   "cell_type": "code",
   "execution_count": null,
   "id": "ff30987b",
   "metadata": {},
   "outputs": [],
   "source": [
    "#fix me: tester fct2"
   ]
  },
  {
   "cell_type": "markdown",
   "id": "f8862443",
   "metadata": {},
   "source": [
    "### Application 3\n",
    "Ecrire une fonction qui retourne la surface et périmetre d'un rectangle"
   ]
  },
  {
   "cell_type": "code",
   "execution_count": null,
   "id": "88f60bb5",
   "metadata": {},
   "outputs": [],
   "source": []
  },
  {
   "cell_type": "markdown",
   "id": "b5b4dc4e",
   "metadata": {},
   "source": [
    "# 2. Passage d’arguments"
   ]
  },
  {
   "cell_type": "markdown",
   "id": "b054f5ae",
   "metadata": {},
   "source": [
    "## 2.1. Arguments d'une fonction"
   ]
  },
  {
   "cell_type": "markdown",
   "id": "977695d0",
   "metadata": {},
   "source": [
    "Nombre d’arguments variable.   \n",
    "Exemple: range(5), range(0,10,2)  \n",
    "Pas de précisions pour les types des arguments  \n",
    "NB: vérifier que les opérations avec ces arguments sont valides;   \n",
    "« typage dynamique » ==> le type de la variable est reconnu au moment de l’exécution.\n"
   ]
  },
  {
   "cell_type": "code",
   "execution_count": null,
   "id": "3421cc12",
   "metadata": {},
   "outputs": [],
   "source": [
    "def fct(a,b):\n",
    "    return (a+b)"
   ]
  },
  {
   "cell_type": "code",
   "execution_count": null,
   "id": "f39b96b1",
   "metadata": {},
   "outputs": [],
   "source": [
    "fct(2,2.5)"
   ]
  },
  {
   "cell_type": "code",
   "execution_count": null,
   "id": "6b7936d3",
   "metadata": {},
   "outputs": [],
   "source": [
    "fct('toto',' toto')"
   ]
  },
  {
   "cell_type": "code",
   "execution_count": null,
   "id": "6bc80591",
   "metadata": {},
   "outputs": [],
   "source": [
    "fct(2,'5')"
   ]
  },
  {
   "cell_type": "code",
   "execution_count": null,
   "id": "48a3056a",
   "metadata": {},
   "outputs": [],
   "source": [
    "fct('5',4)"
   ]
  },
  {
   "cell_type": "markdown",
   "id": "a9e57874",
   "metadata": {},
   "source": [
    "## 2.2. Arguments positionnels"
   ]
  },
  {
   "cell_type": "markdown",
   "id": "7c056634",
   "metadata": {},
   "source": [
    "Pour une fonction nomFonction(x, y):   \n",
    "\n",
    "\t** Il est strictement obligatoire de préciser les arguments x et y lors de son appel.\n",
    "\t** Il est nécessaire de respecter le même ordre lors de l’appel\n",
    "    \n",
    "x et y sont dits des $\\color{blue}{\\text{arguments positionnels}}$ car l’exécution de la fonction dépend de leurs positions\n"
   ]
  },
  {
   "cell_type": "code",
   "execution_count": null,
   "id": "08684234",
   "metadata": {},
   "outputs": [],
   "source": [
    "def add(x,y):\n",
    "    return (x+int(y))"
   ]
  },
  {
   "cell_type": "code",
   "execution_count": null,
   "id": "1a60fe5e",
   "metadata": {},
   "outputs": [],
   "source": [
    "add(4,5)"
   ]
  },
  {
   "cell_type": "code",
   "execution_count": null,
   "id": "5f73affc",
   "metadata": {},
   "outputs": [],
   "source": [
    "add(5,'6')"
   ]
  },
  {
   "cell_type": "code",
   "execution_count": null,
   "id": "ee9114cc",
   "metadata": {},
   "outputs": [],
   "source": [
    "add(5)"
   ]
  },
  {
   "cell_type": "code",
   "execution_count": null,
   "id": "99e6d4e6",
   "metadata": {},
   "outputs": [],
   "source": [
    "add('4',3)"
   ]
  },
  {
   "cell_type": "markdown",
   "id": "1de8e11c",
   "metadata": {},
   "source": [
    "## 2.3. Passage par copie de valeur et par référence "
   ]
  },
  {
   "cell_type": "code",
   "execution_count": null,
   "id": "f26aaef9",
   "metadata": {},
   "outputs": [],
   "source": [
    "def add(b):\n",
    "    b+=3\n",
    "    print('la valeur de b dans la fonction est: ',b)"
   ]
  },
  {
   "cell_type": "code",
   "execution_count": null,
   "id": "344d2523",
   "metadata": {},
   "outputs": [],
   "source": [
    "a=2\n",
    "print(\"valeur de a avant la fonction: \",a)\n",
    "add(a)\n",
    "print(\"valeur de a après la fonction: \",a)"
   ]
  },
  {
   "cell_type": "markdown",
   "id": "4cc3d1cf",
   "metadata": {},
   "source": [
    "$\\color{blue}{\\text{Passage par copie de valeur}}$: on a copier la valeur de a dans b, le changement est enregistré dans b.  \n",
    "--> Deux emplacements différents dans l’espace mémoire."
   ]
  },
  {
   "cell_type": "code",
   "execution_count": null,
   "id": "204371de",
   "metadata": {},
   "outputs": [],
   "source": [
    "def add2(L):\n",
    "    L.append(2)\n",
    "    print('dans la fonction liste =',L)"
   ]
  },
  {
   "cell_type": "code",
   "execution_count": null,
   "id": "c836a639",
   "metadata": {},
   "outputs": [],
   "source": [
    "L1=[1,'toto',2.5]\n",
    "print('avant la fonction liste =',L1)\n",
    "add2(L1)\n",
    "print('après la fonction liste =',L1)"
   ]
  },
  {
   "cell_type": "markdown",
   "id": "cb635678",
   "metadata": {},
   "source": [
    "$\\color{blue}{\\text{Passage par référence}}$: on a passé la référence de liste, le changement est enregistré dans L qui a la même référence de liste.  \n",
    "--> Même emplacement en mémoire."
   ]
  },
  {
   "cell_type": "markdown",
   "id": "433b9271",
   "metadata": {},
   "source": [
    "la fonction $\\color{green}{\\text{id(x)}}$: qui renvoie la référence d’une valeur en mémoire"
   ]
  },
  {
   "cell_type": "markdown",
   "id": "05380f0b",
   "metadata": {},
   "source": [
    "<img src=\"images/image10.png\" width=700, height=600>"
   ]
  },
  {
   "attachments": {
    "image.png": {
     "image/png": "[encoded data removed]"
    }
   },
   "cell_type": "markdown",
   "id": "6e19a0e4",
   "metadata": {},
   "source": [
    "$\\color{red}{\\text{l'objet est mutable}}$: => passé par référence   \n",
    "$\\color{red}{\\text{l'objet est immutable}}$ => passé par valeur\n",
    "les types simples, les tuples, les chaines sont immutables.\n",
    "les listes, les dictionnaires, les ensembles sont mutables.\n",
    "![image.png](attachment:image.png)"
   ]
  },
  {
   "cell_type": "markdown",
   "id": "dc2903b7",
   "metadata": {},
   "source": [
    "# 3. Variables locales et variables globales"
   ]
  },
  {
   "cell_type": "markdown",
   "id": "d83c9f35",
   "metadata": {},
   "source": [
    "$\\color{red}{\\text{Une variable locale }}$:  est créée dans une fonction. Elle n’existera et ne sera visible que lors de l’exécution de la fonction. \n",
    "\n",
    "$\\color{red}{\\text{Une variable est dite globale}}$: est créée dans le programme principal. Elle sera visible partout dans le programme.\n"
   ]
  },
  {
   "cell_type": "markdown",
   "id": "6512c353",
   "metadata": {},
   "source": [
    "<img src=\"images/image11.png\" width=700, height=600>"
   ]
  },
  {
   "cell_type": "markdown",
   "id": "137017e3",
   "metadata": {},
   "source": [
    "Pour l’accès en écriture on cherche la variable localement et si on ne la trouve pas on va la créer.   \n",
    "C’est pour cette raison qu’il faut utiliser la commande $\\color{blue}{\\text{globale }}$ "
   ]
  },
  {
   "cell_type": "markdown",
   "id": "dae6a8ef",
   "metadata": {},
   "source": [
    "<img src=\"images/image12.png\" width=700, height=600>"
   ]
  },
  {
   "cell_type": "markdown",
   "id": "46b83d58",
   "metadata": {},
   "source": [
    "<img src=\"images/image13.png\" width=700, height=500>"
   ]
  },
  {
   "cell_type": "markdown",
   "id": "ea03610b",
   "metadata": {},
   "source": [
    "$\\color{red}{\\text{Recommandations!!}}$  \n",
    "  \n",
    "$\\color{blue}{\\text{Pensez toujours à décomposer le problème en sous-problèmes et donc le programme en sous programme!}}$     "
   ]
  },
  {
   "cell_type": "markdown",
   "id": "dab32d9a",
   "metadata": {},
   "source": [
    "#  Application"
   ]
  },
  {
   "cell_type": "markdown",
   "id": "7dd86536",
   "metadata": {},
   "source": [
    "Nous voulons réaliser le programme Calculatrice.py qui affiche le menu suivant :\n",
    "\n",
    "********************************           \n",
    "*        1) Addition                                       \n",
    "*        2) Soustraction                                \n",
    "*        3) Multiplication                             \n",
    "*        4) Division                                        \n",
    "*        5) Quitter                                         \n",
    "********************************\n",
    "       \n",
    "choix ? 1  \n",
    " a ? 5  \n",
    " b ? 6  \n",
    " 5.000000 + 6.000000 = 11.000000\n"
   ]
  },
  {
   "cell_type": "code",
   "execution_count": null,
   "id": "648aaae8",
   "metadata": {},
   "outputs": [],
   "source": [
    "# Solution 1 (sans sous programmes):\n",
    "while True:\n",
    "    print (\"\"\"\n",
    "        1) Addition           \n",
    "        2) Soustraction       \n",
    "        3) Multiplication     \n",
    "        4) Division           \n",
    "        5) Quitter            \"\"\")\n",
    "    choix=int(input(\"choix ? \"))\n",
    "    if choix==5 :\n",
    "        break\n",
    "    else:\n",
    "        if choix<6 and choix >0 :\n",
    "            a=float(input(\" a ? \"))\n",
    "            b=float(input(\" b ? \"))\n",
    "            if(choix==1):\n",
    "                print (a,\"+\",b,\"=\",a+b)\n",
    "            elif(choix==2):\n",
    "                print (a,\"-\",b,\"=\",a-b)\n",
    "            elif(choix==3):\n",
    "                print (a,\"*\",b,\"=\",a*b)\n",
    "            elif(choix==4):\n",
    "                if(b!=0):\n",
    "                    print (a,\"/\",b,\"=\",a/b)\n",
    "                else:\n",
    "                    print (\"Erreur : division par zero !!!\")\n",
    "        else :\n",
    "            print (\"mauvais choix !!!\")\n",
    "print (\"au revoir\")"
   ]
  },
  {
   "cell_type": "markdown",
   "id": "860a9ca3",
   "metadata": {},
   "source": [
    "**Modifier le programme en utilisant les sous-programmes:  \n",
    "def addition (x1,x2)  \n",
    "def soustraction (x1,x2)  \n",
    "def multiplication (x1,x2)  \n",
    "def division (x1,x2)  \n",
    "def menu ()   \n",
    "def calculatrice (choix,a,b )**"
   ]
  },
  {
   "cell_type": "code",
   "execution_count": null,
   "id": "dad52243",
   "metadata": {},
   "outputs": [],
   "source": []
  },
  {
   "cell_type": "code",
   "execution_count": null,
   "id": "54e8e4f4",
   "metadata": {},
   "outputs": [],
   "source": [
    "\n"
   ]
  },
  {
   "cell_type": "code",
   "execution_count": null,
   "id": "57f2d92a",
   "metadata": {},
   "outputs": [],
   "source": []
  },
  {
   "cell_type": "code",
   "execution_count": null,
   "id": "4bb2c92e",
   "metadata": {},
   "outputs": [],
   "source": []
  }
 ],
 "metadata": {
  "kernelspec": {
   "display_name": "Python 3 (ipykernel)",
   "language": "python",
   "name": "python3"
  },
  "language_info": {
   "codemirror_mode": {
    "name": "ipython",
    "version": 3
   },
   "file_extension": ".py",
   "mimetype": "text/x-python",
   "name": "python",
   "nbconvert_exporter": "python",
   "pygments_lexer": "ipython3",
   "version": "3.11.5"
  }
 },
 "nbformat": 4,
 "nbformat_minor": 5
}
