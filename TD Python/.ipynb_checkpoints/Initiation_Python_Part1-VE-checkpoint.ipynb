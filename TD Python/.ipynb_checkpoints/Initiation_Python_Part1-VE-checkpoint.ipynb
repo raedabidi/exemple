{
 "cells": [
  {
   "cell_type": "markdown",
   "id": "81de4c5d",
   "metadata": {},
   "source": [
    "# Mon premier programme en Pyhton!"
   ]
  },
  {
   "cell_type": "markdown",
   "id": "ef891593",
   "metadata": {},
   "source": [
    "On va commencer par création d’un simple programme pour afficher « Hello World! »\n",
    "En langage python on utilise la fonction print pour faire sortir ou afficher un texte.\n",
    "\n",
    "Ecrire un message et afficher le texte « Hello World! »"
   ]
  },
  {
   "cell_type": "code",
   "execution_count": null,
   "id": "cf688f97",
   "metadata": {},
   "outputs": [],
   "source": []
  },
  {
   "cell_type": "markdown",
   "id": "13b47cd8",
   "metadata": {},
   "source": [
    "Les langages de programmation respectent une syntaxe claire. Si par exemple je doit afficher un message pour dire\n",
    "qu’on va commencer à développer, sans utiliser la fonction print, ça genère une erreur:"
   ]
  },
  {
   "cell_type": "code",
   "execution_count": null,
   "id": "04ef9965",
   "metadata": {},
   "outputs": [],
   "source": [
    "on va commencer à développer"
   ]
  },
  {
   "cell_type": "code",
   "execution_count": null,
   "id": "2ed6ec39",
   "metadata": {},
   "outputs": [],
   "source": [
    "\"\"\"\n",
    "Hello! this is a \n",
    "Multiple line comment\n",
    "print(\"This is a comment\")\n",
    "\"\"\"\n",
    "print(\"This is not a comment\")"
   ]
  },
  {
   "cell_type": "code",
   "execution_count": null,
   "id": "e9337b36",
   "metadata": {},
   "outputs": [],
   "source": [
    "print(\"Save your code\")"
   ]
  },
  {
   "cell_type": "markdown",
   "id": "aa4ee10b",
   "metadata": {},
   "source": [
    "# Les variables\n"
   ]
  },
  {
   "cell_type": "markdown",
   "id": "9b598032",
   "metadata": {},
   "source": [
    "Une variable est une zone mémoire dans laquelle une valeur est stockée. \n",
    "En Python, la déclaration d’une variable et son initialisation se font en même temps.\n",
    "Le type de données stockées par une variable désigne le type  de la variable.\n",
    "\n",
    "Nous allons voir  4 types de variables :\n",
    "\n",
    "les entiers (integers ou int).\n",
    "\n",
    "les nombres décimaux (floats).\n",
    "\n",
    "les chaines de caractères (strings ou str)\n",
    "\n",
    "les booléens (booleans ou bool: True and False)."
   ]
  },
  {
   "cell_type": "code",
   "execution_count": null,
   "id": "01664d85",
   "metadata": {},
   "outputs": [],
   "source": [
    "x = 2\n",
    "x\n"
   ]
  },
  {
   "cell_type": "code",
   "execution_count": null,
   "id": "3a219991",
   "metadata": {},
   "outputs": [],
   "source": [
    "Age = 18                    # Après l’affectation, la variable Age est de type entier\n",
    "Jour = \"Lundi\"\n",
    "Moyenne = 12.5\n",
    "test=True"
   ]
  },
  {
   "cell_type": "code",
   "execution_count": null,
   "id": "f1577934",
   "metadata": {},
   "outputs": [],
   "source": [
    "type(Age)"
   ]
  },
  {
   "cell_type": "code",
   "execution_count": null,
   "id": "457dced4",
   "metadata": {},
   "outputs": [],
   "source": [
    "type(Jour)"
   ]
  },
  {
   "cell_type": "code",
   "execution_count": null,
   "id": "159c7329",
   "metadata": {},
   "outputs": [],
   "source": [
    "type(Moyenne)"
   ]
  },
  {
   "cell_type": "code",
   "execution_count": null,
   "id": "78593f92",
   "metadata": {},
   "outputs": [],
   "source": [
    "type(test)"
   ]
  },
  {
   "cell_type": "markdown",
   "id": "768d4435",
   "metadata": {},
   "source": [
    "# Les opérations\n"
   ]
  },
  {
   "cell_type": "markdown",
   "id": "f956e3a9",
   "metadata": {},
   "source": [
    "Les opérateurs ( +  , - , * ,  /  ) sont effectués sur des nombres entiers et réels."
   ]
  },
  {
   "cell_type": "markdown",
   "id": "353b404b",
   "metadata": {},
   "source": [
    "### Les opérartions élémentaires : \n",
    "\n",
    "Sous python, les opérations élémentaires sont les suivantes : \n",
    "  \n",
    "|Opération | |Signification |  \n",
    "|:---------|:--------|:-------------|\n",
    "|$x+y$     |     |Addition      |\n",
    "|$x-y$     |       |   Soustraction           |\n",
    "|$x/y$     |         |      Division        |\n",
    "|$x*y$     |         |      Multiplication        |\n",
    "|$x**y$    |         |         Puissance     |\n",
    "|$x\\%y$    |         |Le reste de la division Euclidienne|\n",
    "|$x//y$    |         |Le quotient de la division Euclidienne|\n",
    "\n",
    "\n",
    "### Opérateurs d'affectation augmentés :  \n",
    "\n",
    "Le tableau suivant introduit les différents opérateurs d'affectation augmentés et leurs significations:  \n",
    "  \n",
    "\n",
    "|Opération          |Signification    |  \n",
    "|----------------   |-----------------|\n",
    "|$x$ $+=y$          |$x=x+y$          |\n",
    "|$x$ $-=y$          |$x=x-y$          |\n",
    "|$x$ $/=y$          |$x=x/y$          |\n",
    "|$x$ $*=y$          |$x=x*y$          |\n",
    "|$x$ $**=y$         | $x=x**y$        |\n",
    "|$x$ $\\%=y$         | $x=x\\%y $       |  \n",
    "|$x$ $//=y$         |   $x=x//y$      |  "
   ]
  },
  {
   "cell_type": "markdown",
   "id": "d246cb4e",
   "metadata": {},
   "source": [
    "Remarque : Une opération qui contient un entier et un réel, le résultat sera un réel ( car c’est le type le plus général ).\n"
   ]
  },
  {
   "cell_type": "code",
   "execution_count": null,
   "id": "5baa03ea",
   "metadata": {},
   "outputs": [],
   "source": [
    "x=2\n",
    "y=5.\n",
    "z=y/x"
   ]
  },
  {
   "cell_type": "code",
   "execution_count": null,
   "id": "d843b9c1",
   "metadata": {},
   "outputs": [],
   "source": [
    "type(z)"
   ]
  },
  {
   "cell_type": "markdown",
   "id": "c644c99b",
   "metadata": {},
   "source": [
    "**Exercice (1):**  \n",
    " Tester les opérations introduites dans les deux tableaux pour $x=5$ et $y=3$"
   ]
  },
  {
   "cell_type": "code",
   "execution_count": null,
   "id": "77fb63a7",
   "metadata": {},
   "outputs": [],
   "source": []
  },
  {
   "cell_type": "markdown",
   "id": "e8d1d604",
   "metadata": {},
   "source": [
    "Pour obtenir le quotient et le reste d’une division entière, on utilise les symboles // et %\n"
   ]
  },
  {
   "cell_type": "code",
   "execution_count": null,
   "id": "5a62c328",
   "metadata": {},
   "outputs": [],
   "source": [
    "print('Ceci est le quotient : ',x//y)"
   ]
  },
  {
   "cell_type": "code",
   "execution_count": null,
   "id": "a542682e",
   "metadata": {},
   "outputs": [],
   "source": [
    "print('Ceci est le reste : ',x%y)"
   ]
  },
  {
   "cell_type": "code",
   "execution_count": null,
   "id": "dc6d389e",
   "metadata": {},
   "outputs": [],
   "source": [
    "x+=2\n",
    "print('x= ',x)"
   ]
  },
  {
   "cell_type": "markdown",
   "id": "079ef82c",
   "metadata": {},
   "source": [
    "# Les opérations sur les chaînes de caractères\n"
   ]
  },
  {
   "cell_type": "markdown",
   "id": "6db33c3f",
   "metadata": {},
   "source": [
    "## Concaténation\n",
    "L’opérateur ( + ) permet de concaténer deux chaînes de caractères.\n",
    "   "
   ]
  },
  {
   "cell_type": "code",
   "execution_count": null,
   "id": "faf254fd",
   "metadata": {},
   "outputs": [],
   "source": [
    "ch = \"Programme\" \n",
    "ch + \"Python\"    \n",
    "ch+ \"Python\"+ \"1GC1\""
   ]
  },
  {
   "cell_type": "code",
   "execution_count": null,
   "id": "07565ab7",
   "metadata": {},
   "outputs": [],
   "source": [
    "age = 18\n",
    "ch = \"J’ai \" + age + \"ans \" #Ceci génère une erreur, , age est de type numérique"
   ]
  },
  {
   "cell_type": "markdown",
   "id": "3c80cafe",
   "metadata": {},
   "source": [
    "## Duplication\n",
    "L’opératuer ( * ) permet de dupliquer une chaîne de carcatère un nombre entier de fois.\n",
    "\n"
   ]
  },
  {
   "cell_type": "code",
   "execution_count": null,
   "id": "2f1dfb8b",
   "metadata": {},
   "outputs": [],
   "source": [
    "ch = \"Bye\"\n",
    "ch * 2 \n",
    "ch*=2\n",
    "ch   # sortie :   Bye Bye"
   ]
  },
  {
   "cell_type": "markdown",
   "id": "0d7400cf",
   "metadata": {},
   "source": [
    "# La fonction type () et Conversion de type"
   ]
  },
  {
   "cell_type": "markdown",
   "id": "1cfad794",
   "metadata": {},
   "source": [
    "## La fonction type ()\n",
    "Elle retourne le type d'un objet. \n",
    "\n",
    "Elle gère tous les types de base du langage Python avec les types personnalisés que vous avez créés dans votre programme."
   ]
  },
  {
   "cell_type": "code",
   "execution_count": null,
   "id": "e5060afd",
   "metadata": {},
   "outputs": [],
   "source": [
    "a = 5\n",
    "print (type(a))  #Sortie : <class 'int'>\n",
    "ch = 'Ceci est un message'\n",
    "print (type(ch))   # Sortie : <class 'str'>                                 "
   ]
  },
  {
   "cell_type": "code",
   "execution_count": null,
   "id": "00daebc9",
   "metadata": {},
   "outputs": [],
   "source": []
  }
 ],
 "metadata": {
  "kernelspec": {
   "display_name": "Python 3 (ipykernel)",
   "language": "python",
   "name": "python3"
  },
  "language_info": {
   "codemirror_mode": {
    "name": "ipython",
    "version": 3
   },
   "file_extension": ".py",
   "mimetype": "text/x-python",
   "name": "python",
   "nbconvert_exporter": "python",
   "pygments_lexer": "ipython3",
   "version": "3.11.5"
  }
 },
 "nbformat": 4,
 "nbformat_minor": 5
}
