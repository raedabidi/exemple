{
 "cells": [
  {
   "cell_type": "code",
   "execution_count": null,
   "id": "7e859ddf",
   "metadata": {},
   "outputs": [],
   "source": [
    "d1.value(Symbol)\n",
    "d2.value(Atomic Number)\n",
    "d3.value(fusion(K))\n",
    "d4.value(Ebullition(K))\n",
    "l1=[Symbol,Atomic Number,fusion,Ebullition]\n",
    "if température<=1:\n",
    "    print(\"l'élément est solide \")\n",
    "elif 4<=température>=1:\n",
    "    print(\"l'élément est liquide\")\n",
    "else:\n",
    "    print(\"l'élément est gazeux\")"
   ]
  }
 ],
 "metadata": {
  "kernelspec": {
   "display_name": "Python 3 (ipykernel)",
   "language": "python",
   "name": "python3"
  },
  "language_info": {
   "codemirror_mode": {
    "name": "ipython",
    "version": 3
   },
   "file_extension": ".py",
   "mimetype": "text/x-python",
   "name": "python",
   "nbconvert_exporter": "python",
   "pygments_lexer": "ipython3",
   "version": "3.11.5"
  }
 },
 "nbformat": 4,
 "nbformat_minor": 5
}
