{
 "cells": [
  {
   "cell_type": "markdown",
   "id": "4e1fc51d",
   "metadata": {},
   "source": [
    "# Introduction"
   ]
  },
  {
   "cell_type": "markdown",
   "id": "662da892",
   "metadata": {},
   "source": [
    "La plupart des variables ont une seule valeur, quand une nouvelle valeur est affectée à la variable, l’ancienne valeur est écrasée.  \n",
    "$\\color{red}{\\text{Une collection}}$ permet de mettre plus d’une valeur et les transporter dans un seul package un ensemble de valeurs dans une seule variable."
   ]
  },
  {
   "cell_type": "markdown",
   "id": "5b8ff13f",
   "metadata": {},
   "source": [
    "# 1. Les dictionnaires"
   ]
  },
  {
   "cell_type": "markdown",
   "id": "50b0a728",
   "metadata": {},
   "source": [
    "## 1.1. Définition"
   ]
  },
  {
   "cell_type": "markdown",
   "id": "c55c52b6",
   "metadata": {},
   "source": [
    "Un dictionnaire est une collection d’éléments qui sont identifiés par des clés uniques.  \n",
    "Il n’y a aucune notion d’ordre comme dans les listes."
   ]
  },
  {
   "cell_type": "code",
   "execution_count": null,
   "id": "e85a61bd",
   "metadata": {},
   "outputs": [],
   "source": [
    "#dictionnaire vide methode 1\n",
    "#fix me\n",
    "#dictionnaire vide methode 2\n",
    "d=dict()\n",
    "#dictionnaire\n",
    "d = {'nom': 'ali', 'Age': 7, 'Classe': '1'};\n",
    "print(d['nom'])\n",
    "d['nom']='sami'\n",
    "#fix me: modifier l'age\n",
    "#fix me: modifier la classe\n",
    "print(d)"
   ]
  },
  {
   "cell_type": "markdown",
   "id": "38af108f",
   "metadata": {},
   "source": [
    "On accède aux valeurs d’un dictionnaire par des clés.   \n",
    "On définit un dictionnaire vide avec les accolades {} (tout comme on peut le faire pour les listes avec []).  \n",
    "On remplit le dictionnaire avec différentes clés auxquelles on affecte des valeurs.  \n",
    "On peut aussi initialiser toutes les clés et les valeurs d’un dictionnaire en une seule opération :  \n",
    "Mais rien ne nous empêche d’ajouter une clé et une valeur supplémentaire."
   ]
  },
  {
   "cell_type": "markdown",
   "id": "3e868482",
   "metadata": {},
   "source": [
    "Pour récupérer la valeur associée à une clé donnée, il suffit d’utiliser la syntaxe suivante nom_dictionnaire[\"cle\"]. "
   ]
  },
  {
   "cell_type": "code",
   "execution_count": null,
   "id": "1ba8c321",
   "metadata": {},
   "outputs": [],
   "source": [
    "dict1 = {'nom': 'singe', 'poids': 70, 'taille': 1.23};\n",
    "print(dict1)\n",
    "dict1[\"nom\"]='lion'\n",
    "print(dict1[\"taille\"])\n",
    "#fix me: ajout clé et valeur\n",
    "print(dict1)"
   ]
  },
  {
   "cell_type": "markdown",
   "id": "c5a25b5e",
   "metadata": {},
   "source": [
    "## 1.2. Les méthodes des dictionnaires keys(), values et items()   \n",
    "Les méthodes $\\color{green}{\\text{keys()}}$ et $\\color{green}{\\text{values()}}$ renvoient respectivement les clés et les valeurs d’un dictionnaire.   \n",
    "La méthode $\\color{green}{\\text{items()}}$ qui renvoie un nouvel objet dict_items qui renvoient une liste des couples (clé, valeur)   "
   ]
  },
  {
   "cell_type": "code",
   "execution_count": null,
   "id": "bf37dd0b",
   "metadata": {},
   "outputs": [],
   "source": [
    "dict1={\"Année\":2022, \"Mois\":'Mars',\"Jour\":18}\n",
    "print(dict1.keys())\n",
    "print(dict1.values())\n",
    "print(dict1.items())"
   ]
  },
  {
   "cell_type": "markdown",
   "id": "594e0b54",
   "metadata": {},
   "source": [
    "# 1.3. Les opérations sur les dictionnaires"
   ]
  },
  {
   "cell_type": "markdown",
   "id": "9bd15cc9",
   "metadata": {},
   "source": [
    "### Les itérations sur les dictionnaires"
   ]
  },
  {
   "cell_type": "code",
   "execution_count": null,
   "id": "687301c2",
   "metadata": {},
   "outputs": [],
   "source": [
    "dict1={\"Année\":2022, \"Mois\":'Mars',\"Jour\":18}\n",
    "for key,val in dict1.items():\n",
    "    print(key,val)"
   ]
  },
  {
   "cell_type": "code",
   "execution_count": null,
   "id": "d8517c3a",
   "metadata": {},
   "outputs": [],
   "source": [
    "for key in dict1.keys():\n",
    "    print(key)"
   ]
  },
  {
   "cell_type": "code",
   "execution_count": null,
   "id": "23d73fdf",
   "metadata": {},
   "outputs": [],
   "source": [
    "for key in dict1.keys():\n",
    "    print(key,dict1[key])"
   ]
  },
  {
   "cell_type": "code",
   "execution_count": null,
   "id": "f75e3999",
   "metadata": {},
   "outputs": [],
   "source": [
    "for val in dict1.values():\n",
    "    print(val)"
   ]
  },
  {
   "cell_type": "code",
   "execution_count": null,
   "id": "12678ef7",
   "metadata": {},
   "outputs": [],
   "source": [
    "if 'heure' in dict1:\n",
    "    print (\"clés 'heure' existe\")\n",
    "if 'Mois' in dict1:\n",
    "    print (\"clés 'Mois' existe\")"
   ]
  },
  {
   "cell_type": "markdown",
   "id": "4dca450c",
   "metadata": {},
   "source": [
    "## Application 1\n",
    "Ecrire un script qui permet de demander à l’utilisateur de saisir un texte puis afficher le nombre d’apparition de chaque mot dans le texte saisi."
   ]
  },
  {
   "cell_type": "markdown",
   "id": "20dd27fe",
   "metadata": {},
   "source": [
    "$\\color{green}{\\text{Indication Bonus!}}$  \n",
    "Le modèle général pour compter les mots dans un texte consiste à scinder la ligne en mots avec la fonction split(), puis à parcourir les mots en boucle et à utiliser un dictionnaire pour suivre le nombre de mots indépendamment"
   ]
  },
  {
   "cell_type": "code",
   "execution_count": null,
   "id": "453a89c5",
   "metadata": {},
   "outputs": [],
   "source": []
  },
  {
   "cell_type": "markdown",
   "id": "99aa2704",
   "metadata": {},
   "source": [
    "### Liste de  dictionnaires\n",
    "Une liste de dictionnaires qui possèdent les mêmes clés est une structure qui ressemble à une base de données :\n"
   ]
  },
  {
   "cell_type": "code",
   "execution_count": null,
   "id": "bdbffd81",
   "metadata": {},
   "outputs": [],
   "source": [
    "dict1={\"Année\":2022, \"Mois\":'Mars',\"Jour\":18}\n",
    "dict2={\"Année\":2021, \"Mois\":'Juin',\"Jour\":13}\n",
    "liste=[dict1,dict2]\n",
    "print(liste)\n",
    "for i in liste:\n",
    "    print(i[\"Année\"], i[\"Mois\"])\n",
    "#fix me: afficher liste[0]['Mois'], liste[1]['Jour']"
   ]
  },
  {
   "cell_type": "markdown",
   "id": "52ac1137",
   "metadata": {},
   "source": [
    "## Application 2\n",
    "1. Ecrire un script qui permet de remplir les informations de 3 étudiants dans des dictionnaires:  \n",
    "et1={'id':'ID01','Moy':13.25, 'Classe':'1GC1'}  \n",
    "et2={'id':'ID02','Moy':10, 'Classe':'1GC2'}  \n",
    "et3={'id':'ID03','Moy':15.5, 'Classe':'1GC1'}\n",
    "2. Stocker les etudiants dans une liste de dictionnaires\n",
    "3. Afin de corriger la moyenne d'un etudiant, on demande à l'utilisateur de saisir son identifiant et la novelle moyenne ensuite le programme fait la mise à jour nécessaire"
   ]
  },
  {
   "cell_type": "code",
   "execution_count": null,
   "id": "d169a371",
   "metadata": {},
   "outputs": [],
   "source": []
  },
  {
   "cell_type": "markdown",
   "id": "694f1d43",
   "metadata": {},
   "source": [
    "# 2. Les tuples"
   ]
  },
  {
   "cell_type": "markdown",
   "id": "df22bba3",
   "metadata": {},
   "source": [
    "## 2.1 Définition"
   ]
  },
  {
   "cell_type": "markdown",
   "id": "2dd8d94c",
   "metadata": {},
   "source": [
    "Les tuples (« n-uplets » en français) correspondent aux listes non modifiables.  \n",
    "les listes pouvaient être modifiées par références, notamment lors de la copie de listes.  \n",
    "Contrairement á une liste, une fois qu’on a crée un tuple, on ne peut pas modifier son contenu de la même manière qu’une chaine de caractères.  \n",
    "On dit que les tuples sont $\\color{red}{\\text{immuables}}$.   \n",
    "Les tuples ont des éléments qui sont indexés á partir de 0, on utilise les parenthèses au lieu des crochets.  "
   ]
  },
  {
   "cell_type": "code",
   "execution_count": null,
   "id": "afa3b3d2",
   "metadata": {},
   "outputs": [],
   "source": [
    "#Liste\n",
    "x=[14,\"55\",2.5,100]\n",
    "print(x[0])\n",
    "print(x)\n",
    "print(type(x))\n",
    "x[1]='test'\n",
    "print(x)"
   ]
  },
  {
   "cell_type": "code",
   "execution_count": null,
   "id": "ad55031c",
   "metadata": {},
   "outputs": [],
   "source": [
    "#chaine de caractères\n",
    "y='ahmed'\n",
    "print(y)\n",
    "print(type(y))\n",
    "y[0]='A'"
   ]
  },
  {
   "cell_type": "code",
   "execution_count": null,
   "id": "3a7d28c5",
   "metadata": {},
   "outputs": [],
   "source": [
    "#tuple\n",
    "z=('asma',12,-4,2.6)\n",
    "print(z)\n",
    "print(type(z))\n",
    "print(z[2])\n",
    "z[1]=2.3"
   ]
  },
  {
   "cell_type": "markdown",
   "id": "40af66ba",
   "metadata": {},
   "source": [
    "## 2.2 les opérations sur les tuples"
   ]
  },
  {
   "cell_type": "markdown",
   "id": "443cbfa1",
   "metadata": {},
   "source": [
    "La fonction $\\color{green}{\\text{tuple}}$(sequence): prend en argument un objet séquentiel et renvoie le tuple correspondant.\n"
   ]
  },
  {
   "cell_type": "code",
   "execution_count": null,
   "id": "0f1ba3e8",
   "metadata": {},
   "outputs": [],
   "source": [
    "print(tuple([1,'c4',4.5,852]))\n",
    "print(tuple('ABCDEFGHIJIKLM'))"
   ]
  },
  {
   "cell_type": "markdown",
   "id": "39d673f2",
   "metadata": {},
   "source": [
    "la fonction $\\color{green}{\\text{count}}$(val): prend en argument une valeur et chercher le nombre d’occurrence dans un tuple."
   ]
  },
  {
   "cell_type": "code",
   "execution_count": null,
   "id": "b0c38869",
   "metadata": {},
   "outputs": [],
   "source": [
    "x=(1, 2,'c4', 4.5, 852,2)\n",
    "print(\"Nombre d'occurence de {} est {}\".format(2,x.count(2)))\n",
    "print(\"Nombre d'occurence de {} est {}\".format('c4',x.count('c4')))\n",
    "print(\"Nombre d'occurence de {} est {}\".format(-6,x.count(-6)))"
   ]
  },
  {
   "cell_type": "markdown",
   "id": "be404fde",
   "metadata": {},
   "source": [
    "Les tuples sont $\\color{green}{\\text{comparables}}$: Les opérateurs de comparaison fonctionnent avec des tuplets et d’autres séquences.  \n",
    "Si le premier élément est égal, Python passe á l’élément suivant, et ainsi de suite, jusqu’á ce qu’il trouve des éléments différents.   \n",
    "Les tuples sont additive  (Concaténation des tuples)\n"
   ]
  },
  {
   "cell_type": "code",
   "execution_count": null,
   "id": "61367ddb",
   "metadata": {},
   "outputs": [],
   "source": [
    "print((1,2,6) >= (4,2))\n",
    "print((3,6) > (4,2,3))\n",
    "print(('ali',2) < ('ali',5))\n",
    "print(('ali',2) + ('ali',5))"
   ]
  },
  {
   "cell_type": "markdown",
   "id": "d47dbfae",
   "metadata": {},
   "source": [
    "# 3. Les sets"
   ]
  },
  {
   "cell_type": "markdown",
   "id": "b49f5528",
   "metadata": {},
   "source": [
    "## 3.1 Définition"
   ]
  },
  {
   "cell_type": "markdown",
   "id": "10b299da",
   "metadata": {},
   "source": [
    "Les containers de type set représentent un autre type d’objet séquentiel qui peut se révéler très pratique.\n",
    "Ils ont la particularité d’être $\\color{red}{\\text{non modifiables, non ordonnés}}$ et de ne contenir qu’$\\color{red}{\\text{une seule copie maximum de chaque élément}}$.  \n",
    "Pour créer un nouveau set on peut utiliser les accolades.  \n",
    "On utilisera la fonction interne à Python $\\color{green}{\\text{set()}}$ pour générer un nouveau set. Celle-ci prend en argument n’importe quel objet itérable et le convertit en set.\n"
   ]
  },
  {
   "cell_type": "code",
   "execution_count": null,
   "id": "611feb1a",
   "metadata": {},
   "outputs": [],
   "source": [
    "s1={1,2,\"fgr\",585,2.36,}\n",
    "print(s1)\n",
    "print(type(s1))\n",
    "s2={1,33,2,\"fgr\",585,2}\n",
    "print(s2)\n",
    "s3=set([1,2,1,33,4,2,2])\n",
    "print(s3)"
   ]
  },
  {
   "cell_type": "markdown",
   "id": "5ccb4eb3",
   "metadata": {},
   "source": [
    "## 3.2 Les opérations sur les sets"
   ]
  },
  {
   "cell_type": "markdown",
   "id": "5796b0ff",
   "metadata": {},
   "source": [
    "les sets $\\color{red}{\\text{ne sont pas ordonnés}}$: il est impossible de récupérer un élément par sa position.  \n",
    "Les sets sont $\\color{red}{\\text{immuables}}$: il est impossible de modifier un de ses éléments.   \n",
    "les sets sont $\\color{red}{\\text{itérables}}$: on peut les parcourir\n"
   ]
  },
  {
   "cell_type": "code",
   "execution_count": null,
   "id": "e1f467ad",
   "metadata": {},
   "outputs": [],
   "source": [
    "s1={1,2,\"fgr\",585,2.36}\n",
    "print(s1)\n",
    "print(s1(2))"
   ]
  },
  {
   "cell_type": "code",
   "execution_count": null,
   "id": "55b956e6",
   "metadata": {},
   "outputs": [],
   "source": [
    "for i in s1:\n",
    "    print(i, end=\" \")"
   ]
  },
  {
   "cell_type": "markdown",
   "id": "a9d2d709",
   "metadata": {},
   "source": [
    "Les sets permettent de vérifier les opérations d’$\\color{red}{\\text{union}}$ ou d’$\\color{red}{\\text{intersection}}$ mathématiques en conjonction avec les opérateurs respectivement $\\color{red}{\\text{|}}$  et $\\color{red}{\\text{&}}$ :"
   ]
  },
  {
   "cell_type": "code",
   "execution_count": null,
   "id": "ad51b48d",
   "metadata": {},
   "outputs": [],
   "source": [
    "s1={1,2.5,14,78,125,36}\n",
    "s2={25,14,58,458,36,758}\n",
    "print('s1:',s1)\n",
    "print('s2:',s2)\n",
    "s3=s1|s2\n",
    "print('s1 | s2: ',s3)\n",
    "s4=s1&s2\n",
    "print('s1 & s2: ',s4)"
   ]
  },
  {
   "cell_type": "markdown",
   "id": "d380dcab",
   "metadata": {},
   "source": [
    "## Application 3"
   ]
  },
  {
   "cell_type": "markdown",
   "id": "265444ec",
   "metadata": {},
   "source": [
    "Ecrire un script permettant de  demander à l’utilisateur de saisir une chaine de caractère puis compter le nombre d’occurrence de chaque lettre de cette chaine.   \n",
    "$\\color{green}{\\text{Indication Bonus!}}$  \n",
    "Le modèle général pour compter les caractères dans une chaine consiste à créer un set à partir de cette dernière puis à parcourir le set en boucle  et utiliser  la fonction count."
   ]
  },
  {
   "cell_type": "code",
   "execution_count": null,
   "id": "64c0497e",
   "metadata": {},
   "outputs": [],
   "source": []
  },
  {
   "cell_type": "code",
   "execution_count": null,
   "id": "ea557354",
   "metadata": {},
   "outputs": [],
   "source": []
  }
 ],
 "metadata": {
  "kernelspec": {
   "display_name": "Python 3 (ipykernel)",
   "language": "python",
   "name": "python3"
  },
  "language_info": {
   "codemirror_mode": {
    "name": "ipython",
    "version": 3
   },
   "file_extension": ".py",
   "mimetype": "text/x-python",
   "name": "python",
   "nbconvert_exporter": "python",
   "pygments_lexer": "ipython3",
   "version": "3.11.5"
  }
 },
 "nbformat": 4,
 "nbformat_minor": 5
}
