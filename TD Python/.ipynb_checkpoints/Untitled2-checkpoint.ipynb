{
 "cells": [
  {
   "cell_type": "code",
   "execution_count": null,
   "id": "68340099",
   "metadata": {},
   "outputs": [],
   "source": [
    "for i in range(6):\n",
    "    chaine = input(\"Saisissez la chaîne : \")\n",
    "    liste_chaines.append(chaine)\n",
    "nb_chaines = 0\n",
    "for chaine in liste_chaines:\n",
    "    if len(chaine) >= 2 and chaine[0] == chaine[-1]:\n",
    "        nb_chaines += 1\n",
    "print(\"Nombre de chaînes avec longueur >= 2 et premier/ dernier caractère identiques :(nb_chaines)\")"
   ]
  }
 ],
 "metadata": {
  "kernelspec": {
   "display_name": "Python 3 (ipykernel)",
   "language": "python",
   "name": "python3"
  },
  "language_info": {
   "codemirror_mode": {
    "name": "ipython",
    "version": 3
   },
   "file_extension": ".py",
   "mimetype": "text/x-python",
   "name": "python",
   "nbconvert_exporter": "python",
   "pygments_lexer": "ipython3",
   "version": "3.11.5"
  }
 },
 "nbformat": 4,
 "nbformat_minor": 5
}
