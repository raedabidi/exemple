{
 "cells": [
  {
   "cell_type": "markdown",
   "id": "e91623a9",
   "metadata": {},
   "source": [
    "# Introduction"
   ]
  },
  {
   "cell_type": "markdown",
   "id": "5db70bd4",
   "metadata": {},
   "source": [
    "Exemple: Calculer le factoriel d’un entier saisie par l’utilisateur"
   ]
  },
  {
   "cell_type": "code",
   "execution_count": 8,
   "id": "112851d4",
   "metadata": {},
   "outputs": [
    {
     "name": "stdout",
     "output_type": "stream",
     "text": [
      "donner un entier: 1400\n",
      "factoriel de  1400  est:  3460629358743791518358640343380200033536377420801504613977834439628840456163670274695558067710273338903291484649576746867361500680672973256849982294175134713060467153155629165780737358063943975387837129707549222603369961280531795394931455747237797154095659698639294680127360380653926826232539927403528251263161028965803081822842452827764247160796519008797451937040525226086878573100117434233781222959427466747894565969422232074097632768922801388361131268857944271344283627004454636200325924436054507510486306322652479048427184040269481583912267530925982537961027011870036712539392460540633911524194739457545185396447282023994090709070849365614378410765696496406344741903269603648889963663737246994204425548632172469666533218712507313639708793251917881197671281119538022809944384260445948903899642907572872484700968116132219534334887670440970421855790719083757883435462538672661002637144183031216258065165336084124007083957767816382220824464482622676220393931669716917506383435300018775554674852393941078203252506454872266014618887853513040356219650523858118031569841525737930248702977790174476652276472149542457467236080726481885536504817526462173417675877031027841884390451703721233712679767872326519229728546298852758055107999799663982782342919259040484519916902662965916073961136578518558798675449170525319508874786842240289018842653365142681067961482033502830734404887683123158800932041967484708297410631973511779333852502562069205172189573365542010897316582317884924641278806978370099260820431870630450499551282313509564889346188090555238555924237123596860251357328562220561530929555968582061115919171072673931047992256771692381419976833534708845678737097085435741279358345678750500006661537679294976530873762442081697051079770906280353020065561810318568156776808036416660460846581943142134971720446089151816008008216036445451876510684812644507936656723151456216276294537673889659517583489619558060150263275904245262507026651761511077925062682576046904289215432196135074280302774259171670694074827362484258615327138688746565200539072864406591841258088394167413476764258110510838520429839971734770557004617912701571230523741737427285911603596396717419810115879872765758388613167824919105648225030814780709157974863779773599943383476463182291638967144114094258388071585076126458000849355775618446272290378469842871561402709365563178356992531586532153026737999404137284629570571582551115425843380340807397078562658125362259069983770412784148257949883816157682125273760030781175181353083728980032243238681594757725006732010156439831451571452810659541823923060253109993042156690317274659544978815626325407141698922454634426067018076746570435882807481744313898080316997996119320413474010756643887205041010968108160848456148450826594330106290574967833360513576874457068463624356547671481007170563023638644345927294804528975778846189843484661172925937807101436348730223287720400805089257646019872316718987167370224851162657830347427305819503475588154550967872648363343792517739497200212382405163933964885498593889452438429590459682322502944167163327730282377168805971932133904101200914550704252132714168855031895944255165895330352552907284011984081205149085466858417954853483056252865990059259119227047898363108547377223073543841410898659599757575922326555137046998064745545826459714680696042186841411489100860068810156139316453306326789944802754109586556219088389206747724886547112398000208475525061403959289906046005721953429267895985538914155380080640000000000000000000000000000000000000000000000000000000000000000000000000000000000000000000000000000000000000000000000000000000000000000000000000000000000000000000000000000000000000000000000000000000000000000000000000000000000000000000000000000000000000000000000000000000000000000000000000000000000000000000000000000000000000000000000000000000000000\n"
     ]
    }
   ],
   "source": [
    "n=int(input(\"donner un entier: \"))\n",
    "fact=1\n",
    "i=1\n",
    "while i<=n:\n",
    "    fact=fact*i\n",
    "    i+=1\n",
    "print('factoriel de ',n, ' est: ',fact)"
   ]
  },
  {
   "cell_type": "markdown",
   "id": "b364642c",
   "metadata": {},
   "source": [
    "Pour chaque utilisation, on doit réecrire les mêmes instructions! \n",
    "\n",
    "$\\color{green}{\\text{Solution}}$: définir une fonction permet de claculer le factoriel d'un entier. "
   ]
  },
  {
   "cell_type": "markdown",
   "id": "e56852c5",
   "metadata": {},
   "source": [
    "$\\color{blue}{\\text{Rappel}}$:   \n",
    "$\\color{green}{\\text{Sous-programme}}$:  bloc d’instructions réalisant une certaine tâche.   \n",
    "Il possède un nom et est exécuté lorsqu’on l’appelle.   \n",
    "$\\color{green}{\\text{Script}}$ : programme dit principal + plusieurs sous-programmes.   \n",
    "==> Quand le programme principal fait appel à un sous-programme, il suspend son propre déroulement, exécute le sous-programme en question, et reprend ensuite son fonctionnement\n"
   ]
  },
  {
   "cell_type": "markdown",
   "id": "81b1ebc0",
   "metadata": {},
   "source": [
    "# 1. Qu’est ce qu’une fonction?"
   ]
  },
  {
   "cell_type": "markdown",
   "id": "64f64f9c",
   "metadata": {},
   "source": [
    "$\\color{green}{\\text{Sous-programme}}$: : les procédures et les fonctions.   \n",
    "$\\color{green}{\\text{Procédure}}$: un sous-programme qui fait un traitement et peut afficher des résultats à l’écran.   \n",
    "$\\color{green}{\\text{Fonction}}$: un sous-programme qui exécute une tâche, qui peut afficher  des résultats à l’écran et qui retourne un résultat.   \n",
    "---> On peut considérer la procédure comme fonction sans retour.    \n",
    "---> Réaliser plusieurs fois la même opération au sein d’un programme.    \n",
    "---> Rendre le code plus lisible et plus clair en le fractionnant en sous-programmes.   \n",
    "Exemple: len(), range(), list(), set() ……\n"
   ]
  },
  {
   "cell_type": "markdown",
   "id": "54abdefc",
   "metadata": {},
   "source": [
    "$\\color{green}{\\text{Une fonction}}$:  un morceau de code appelé à tout moment dans une autre partie du code.   \n",
    "Si on un nombre important de fonctions, il est possible de les regrouper dans des $\\color{red}{\\text{modules}}$ \n",
    "\n",
    "\n",
    "$\\color{red}{\\text{def}}$ nomDeLaFonction(liste de paramètres):  \n",
    "... \n",
    "\n",
    "bloc d'instructions   \n",
    "..."
   ]
  },
  {
   "cell_type": "code",
   "execution_count": 2,
   "id": "1b89ba9a",
   "metadata": {},
   "outputs": [
    {
     "name": "stdout",
     "output_type": "stream",
     "text": [
      "factoriel de  3  est:  6\n",
      "factoriel de  4  est:  24\n"
     ]
    }
   ],
   "source": [
    "#exemple:\n",
    "def fact(n):\n",
    "    fact=1\n",
    "    i=1\n",
    "    while i<=n:\n",
    "        fact=fact*i\n",
    "        i+=1\n",
    "    print('factoriel de ',n, ' est: ',fact)\n",
    "#fin fonction\n",
    "fact(3)\n",
    "fact(4)"
   ]
  },
  {
   "cell_type": "markdown",
   "id": "5b4d83f8",
   "metadata": {},
   "source": [
    "### Application 1: \n",
    "Écrire une fonction qui retourne la valeur absolue d’un entier N puis tester la fonction.\n",
    "\n"
   ]
  },
  {
   "cell_type": "code",
   "execution_count": 12,
   "id": "6659f73a",
   "metadata": {},
   "outputs": [
    {
     "name": "stdout",
     "output_type": "stream",
     "text": [
      "donner la valeur-100\n",
      "valeur absolue de -100 est 100\n"
     ]
    }
   ],
   "source": [
    "def Val_ABS(n):\n",
    "    if n<0:\n",
    "        return -n\n",
    "    else:\n",
    "        return n \n",
    "n=int(input(\"donner la valeur\"))\n",
    "print(\"valeur absolue de\",n,\"est\",Val_ABS(n))"
   ]
  },
  {
   "cell_type": "markdown",
   "id": "ab5c9984",
   "metadata": {},
   "source": [
    " Application 2\n",
    "Écrire une fonction qui retourne la moyenne de deux réels x et y.\n"
   ]
  },
  {
   "cell_type": "code",
   "execution_count": 19,
   "id": "65a41e5b",
   "metadata": {},
   "outputs": [
    {
     "ename": "SyntaxError",
     "evalue": "unterminated string literal (detected at line 5) (324893880.py, line 5)",
     "output_type": "error",
     "traceback": [
      "\u001b[1;36m  Cell \u001b[1;32mIn[19], line 5\u001b[1;36m\u001b[0m\n\u001b[1;33m    print(\"la moyenne de deux reels x et y :,'moy(x,y))\u001b[0m\n\u001b[1;37m          ^\u001b[0m\n\u001b[1;31mSyntaxError\u001b[0m\u001b[1;31m:\u001b[0m unterminated string literal (detected at line 5)\n"
     ]
    }
   ],
   "source": [
    "def calculer_moyenne(x, y):\n",
    "    return (x+y)/2\n",
    "x=int(input(\"donner la valeur de x:\"))\n",
    "y=int(input(\"donner la valeurr de y:\"))\n",
    "print(\"la moyenne de deux reels x et y :,'moy(x,y))\n",
    "    "
   ]
  },
  {
   "cell_type": "markdown",
   "id": "29ec9b7f",
   "metadata": {},
   "source": [
    "$\\color{red}{\\text{N.B}}$: En python, une fonction peut avoir un ou plusieurs retours"
   ]
  },
  {
   "cell_type": "code",
   "execution_count": 20,
   "id": "cda06749",
   "metadata": {},
   "outputs": [],
   "source": [
    "#exemple:\n",
    "def fct1(a,b):\n",
    "    return a-b\n",
    "def fct2(a,b):\n",
    "    return a-b, a+b, a*b"
   ]
  },
  {
   "cell_type": "code",
   "execution_count": 21,
   "id": "5f68e858",
   "metadata": {},
   "outputs": [
    {
     "name": "stdout",
     "output_type": "stream",
     "text": [
      "-1\n"
     ]
    }
   ],
   "source": [
    "a=2\n",
    "b=3\n",
    "print(fct1(2,3))"
   ]
  },
  {
   "cell_type": "code",
   "execution_count": 22,
   "id": "ff30987b",
   "metadata": {},
   "outputs": [
    {
     "data": {
      "text/plain": [
       "(-1, 5, 6)"
      ]
     },
     "execution_count": 22,
     "metadata": {},
     "output_type": "execute_result"
    }
   ],
   "source": [
    "fct2(2,3)"
   ]
  },
  {
   "cell_type": "markdown",
   "id": "f8862443",
   "metadata": {},
   "source": [
    "### Application 3\n",
    "Ecrire une fonction qui retourne la surface et périmetre d'un rectangle"
   ]
  },
  {
   "cell_type": "code",
   "execution_count": 24,
   "id": "88f60bb5",
   "metadata": {},
   "outputs": [
    {
     "name": "stdout",
     "output_type": "stream",
     "text": [
      "Surface et le perimetre du rectangle : (30, 22)\n"
     ]
    }
   ],
   "source": [
    "def calculer_surface_et_perimetre(longueur, largeur):\n",
    "    surface = longueur * largeur\n",
    "    perimetre = 2 * (longueur + largeur)\n",
    "    return (surface, perimetre)\n",
    "print(\"Surface et le perimetre du rectangle :\", calculer_surface_et_perimetre(5,6))"
   ]
  },
  {
   "cell_type": "markdown",
   "id": "b5b4dc4e",
   "metadata": {},
   "source": [
    "# 2. Passage d’arguments"
   ]
  },
  {
   "cell_type": "code",
   "execution_count": 27,
   "id": "ffae0be7",
   "metadata": {},
   "outputs": [
    {
     "ename": "NameError",
     "evalue": "name 'longeur' is not defined",
     "output_type": "error",
     "traceback": [
      "\u001b[1;31m---------------------------------------------------------------------------\u001b[0m",
      "\u001b[1;31mNameError\u001b[0m                                 Traceback (most recent call last)",
      "Cell \u001b[1;32mIn[27], line 3\u001b[0m\n\u001b[0;32m      1\u001b[0m \u001b[38;5;28;01mdef\u001b[39;00m \u001b[38;5;21mcalculer_surface_et_perimetre\u001b[39m(longueur, largeur):\n\u001b[0;32m      2\u001b[0m     \u001b[38;5;28;01mreturn\u001b[39;00m largeur\u001b[38;5;241m*\u001b[39mlongeur, (largeur\u001b[38;5;241m+\u001b[39mlongeur)\u001b[38;5;241m*\u001b[39m\u001b[38;5;241m2\u001b[39m\n\u001b[1;32m----> 3\u001b[0m calculer_surface_et_perimetre(\u001b[38;5;241m4\u001b[39m,\u001b[38;5;241m5\u001b[39m)\n",
      "Cell \u001b[1;32mIn[27], line 2\u001b[0m, in \u001b[0;36mcalculer_surface_et_perimetre\u001b[1;34m(longueur, largeur)\u001b[0m\n\u001b[0;32m      1\u001b[0m \u001b[38;5;28;01mdef\u001b[39;00m \u001b[38;5;21mcalculer_surface_et_perimetre\u001b[39m(longueur, largeur):\n\u001b[1;32m----> 2\u001b[0m     \u001b[38;5;28;01mreturn\u001b[39;00m largeur\u001b[38;5;241m*\u001b[39mlongeur, (largeur\u001b[38;5;241m+\u001b[39mlongeur)\u001b[38;5;241m*\u001b[39m\u001b[38;5;241m2\u001b[39m\n",
      "\u001b[1;31mNameError\u001b[0m: name 'longeur' is not defined"
     ]
    }
   ],
   "source": [
    "def calculer_surface_et_perimetre(longueur, largeur):\n",
    "    return largeur*longeur, (largeur+longeur)*2\n",
    "calculer_surface_et_perimetre(4,5)"
   ]
  },
  {
   "cell_type": "markdown",
   "id": "b054f5ae",
   "metadata": {},
   "source": [
    "## 2.1. Arguments d'une fonction"
   ]
  },
  {
   "cell_type": "markdown",
   "id": "977695d0",
   "metadata": {},
   "source": [
    "Nombre d’arguments variable.   \n",
    "Exemple: range(5), range(0,10,2)  \n",
    "Pas de précisions pour les types des arguments  \n",
    "NB: vérifier que les opérations avec ces arguments sont valides;   \n",
    "« typage dynamique » ==> le type de la variable est reconnu au moment de l’exécution.\n"
   ]
  },
  {
   "cell_type": "code",
   "execution_count": null,
   "id": "3421cc12",
   "metadata": {},
   "outputs": [],
   "source": [
    "def fct(a,b):\n",
    "    return (a+b)"
   ]
  },
  {
   "cell_type": "code",
   "execution_count": null,
   "id": "f39b96b1",
   "metadata": {},
   "outputs": [],
   "source": [
    "fct(2,2.5)"
   ]
  },
  {
   "cell_type": "code",
   "execution_count": null,
   "id": "6b7936d3",
   "metadata": {},
   "outputs": [],
   "source": [
    "fct('toto',' toto')"
   ]
  },
  {
   "cell_type": "code",
   "execution_count": null,
   "id": "6bc80591",
   "metadata": {},
   "outputs": [],
   "source": [
    "fct(2,'5')"
   ]
  },
  {
   "cell_type": "code",
   "execution_count": null,
   "id": "48a3056a",
   "metadata": {},
   "outputs": [],
   "source": [
    "fct('5',4)"
   ]
  },
  {
   "cell_type": "markdown",
   "id": "a9e57874",
   "metadata": {},
   "source": [
    "## 2.2. Arguments positionnels"
   ]
  },
  {
   "cell_type": "markdown",
   "id": "7c056634",
   "metadata": {},
   "source": [
    "Pour une fonction nomFonction(x, y):   \n",
    "\n",
    "\t** Il est strictement obligatoire de préciser les arguments x et y lors de son appel.\n",
    "\t** Il est nécessaire de respecter le même ordre lors de l’appel\n",
    "    \n",
    "x et y sont dits des $\\color{blue}{\\text{arguments positionnels}}$ car l’exécution de la fonction dépend de leurs positions\n"
   ]
  },
  {
   "cell_type": "code",
   "execution_count": 31,
   "id": "08684234",
   "metadata": {},
   "outputs": [],
   "source": [
    "def add(x,y):\n",
    "    return (x+int(y))"
   ]
  },
  {
   "cell_type": "code",
   "execution_count": 32,
   "id": "1a60fe5e",
   "metadata": {},
   "outputs": [
    {
     "data": {
      "text/plain": [
       "9"
      ]
     },
     "execution_count": 32,
     "metadata": {},
     "output_type": "execute_result"
    }
   ],
   "source": [
    "add(4,5)"
   ]
  },
  {
   "cell_type": "code",
   "execution_count": 33,
   "id": "5f73affc",
   "metadata": {},
   "outputs": [
    {
     "data": {
      "text/plain": [
       "11"
      ]
     },
     "execution_count": 33,
     "metadata": {},
     "output_type": "execute_result"
    }
   ],
   "source": [
    "add(5,'6')"
   ]
  },
  {
   "cell_type": "code",
   "execution_count": 34,
   "id": "ee9114cc",
   "metadata": {},
   "outputs": [
    {
     "ename": "TypeError",
     "evalue": "add() missing 1 required positional argument: 'y'",
     "output_type": "error",
     "traceback": [
      "\u001b[1;31m---------------------------------------------------------------------------\u001b[0m",
      "\u001b[1;31mTypeError\u001b[0m                                 Traceback (most recent call last)",
      "Cell \u001b[1;32mIn[34], line 1\u001b[0m\n\u001b[1;32m----> 1\u001b[0m add(\u001b[38;5;241m5\u001b[39m)\n",
      "\u001b[1;31mTypeError\u001b[0m: add() missing 1 required positional argument: 'y'"
     ]
    }
   ],
   "source": [
    "add(5)"
   ]
  },
  {
   "cell_type": "code",
   "execution_count": 35,
   "id": "99e6d4e6",
   "metadata": {},
   "outputs": [
    {
     "ename": "TypeError",
     "evalue": "can only concatenate str (not \"int\") to str",
     "output_type": "error",
     "traceback": [
      "\u001b[1;31m---------------------------------------------------------------------------\u001b[0m",
      "\u001b[1;31mTypeError\u001b[0m                                 Traceback (most recent call last)",
      "Cell \u001b[1;32mIn[35], line 1\u001b[0m\n\u001b[1;32m----> 1\u001b[0m add(\u001b[38;5;124m'\u001b[39m\u001b[38;5;124m4\u001b[39m\u001b[38;5;124m'\u001b[39m,\u001b[38;5;241m3\u001b[39m)\n",
      "Cell \u001b[1;32mIn[31], line 2\u001b[0m, in \u001b[0;36madd\u001b[1;34m(x, y)\u001b[0m\n\u001b[0;32m      1\u001b[0m \u001b[38;5;28;01mdef\u001b[39;00m \u001b[38;5;21madd\u001b[39m(x,y):\n\u001b[1;32m----> 2\u001b[0m     \u001b[38;5;28;01mreturn\u001b[39;00m (x\u001b[38;5;241m+\u001b[39m\u001b[38;5;28mint\u001b[39m(y))\n",
      "\u001b[1;31mTypeError\u001b[0m: can only concatenate str (not \"int\") to str"
     ]
    }
   ],
   "source": [
    "add('4',3)"
   ]
  },
  {
   "cell_type": "markdown",
   "id": "1de8e11c",
   "metadata": {},
   "source": [
    "## 2.3. Passage par copie de valeur et par référence "
   ]
  },
  {
   "cell_type": "code",
   "execution_count": null,
   "id": "f26aaef9",
   "metadata": {},
   "outputs": [],
   "source": [
    "def add(b):\n",
    "    b+=3\n",
    "    print('la valeur de b dans la fonction est: ',b)"
   ]
  },
  {
   "cell_type": "code",
   "execution_count": null,
   "id": "344d2523",
   "metadata": {},
   "outputs": [],
   "source": [
    "a=2\n",
    "print(\"valeur de a avant la fonction: \",a)\n",
    "add(a)\n",
    "print(\"valeur de a après la fonction: \",a)"
   ]
  },
  {
   "cell_type": "markdown",
   "id": "4cc3d1cf",
   "metadata": {},
   "source": [
    "$\\color{blue}{\\text{Passage par copie de valeur}}$: on a copier la valeur de a dans b, le changement est enregistré dans b.  \n",
    "--> Deux emplacements différents dans l’espace mémoire."
   ]
  },
  {
   "cell_type": "code",
   "execution_count": null,
   "id": "204371de",
   "metadata": {},
   "outputs": [],
   "source": [
    "def add2(L):\n",
    "    L.append(2)\n",
    "    print('dans la fonction liste =',L)"
   ]
  },
  {
   "cell_type": "code",
   "execution_count": null,
   "id": "c836a639",
   "metadata": {},
   "outputs": [],
   "source": [
    "L1=[1,'toto',2.5]\n",
    "print('avant la fonction liste =',L1)\n",
    "add2(L1)\n",
    "print('après la fonction liste =',L1)"
   ]
  },
  {
   "cell_type": "markdown",
   "id": "cb635678",
   "metadata": {},
   "source": [
    "$\\color{blue}{\\text{Passage par référence}}$: on a passé la référence de liste, le changement est enregistré dans L qui a la même référence de liste.  \n",
    "--> Même emplacement en mémoire."
   ]
  },
  {
   "cell_type": "markdown",
   "id": "433b9271",
   "metadata": {},
   "source": [
    "la fonction $\\color{green}{\\text{id(x)}}$: qui renvoie la référence d’une valeur en mémoire"
   ]
  },
  {
   "cell_type": "markdown",
   "id": "05380f0b",
   "metadata": {},
   "source": [
    "<img src=\"images/image10.png\" width=700, height=600>"
   ]
  },
  {
   "attachments": {
    "image.png": {
     "image/png": "[encoded data removed]"
    }
   },
   "cell_type": "markdown",
   "id": "6e19a0e4",
   "metadata": {},
   "source": [
    "$\\color{red}{\\text{l'objet est mutable}}$: => passé par référence   \n",
    "$\\color{red}{\\text{l'objet est immutable}}$ => passé par valeur\n",
    "les types simples, les tuples, les chaines sont immutables.\n",
    "les listes, les dictionnaires, les ensembles sont mutables.\n",
    "![image.png](attachment:image.png)"
   ]
  },
  {
   "cell_type": "markdown",
   "id": "dc2903b7",
   "metadata": {},
   "source": [
    "# 3. Variables locales et variables globales"
   ]
  },
  {
   "cell_type": "markdown",
   "id": "d83c9f35",
   "metadata": {},
   "source": [
    "$\\color{red}{\\text{Une variable locale }}$:  est créée dans une fonction. Elle n’existera et ne sera visible que lors de l’exécution de la fonction. \n",
    "\n",
    "$\\color{red}{\\text{Une variable est dite globale}}$: est créée dans le programme principal. Elle sera visible partout dans le programme.\n"
   ]
  },
  {
   "cell_type": "markdown",
   "id": "6512c353",
   "metadata": {},
   "source": [
    "<img src=\"images/image11.png\" width=700, height=600>"
   ]
  },
  {
   "cell_type": "markdown",
   "id": "137017e3",
   "metadata": {},
   "source": [
    "Pour l’accès en écriture on cherche la variable localement et si on ne la trouve pas on va la créer.   \n",
    "C’est pour cette raison qu’il faut utiliser la commande $\\color{blue}{\\text{globale }}$ "
   ]
  },
  {
   "cell_type": "markdown",
   "id": "dae6a8ef",
   "metadata": {},
   "source": [
    "<img src=\"images/image12.png\" width=700, height=600>"
   ]
  },
  {
   "cell_type": "markdown",
   "id": "46b83d58",
   "metadata": {},
   "source": [
    "<img src=\"images/image13.png\" width=700, height=500>"
   ]
  },
  {
   "cell_type": "markdown",
   "id": "ea03610b",
   "metadata": {},
   "source": [
    "$\\color{red}{\\text{Recommandations!!}}$  \n",
    "  \n",
    "$\\color{blue}{\\text{Pensez toujours à décomposer le problème en sous-problèmes et donc le programme en sous programme!}}$     "
   ]
  },
  {
   "cell_type": "markdown",
   "id": "dab32d9a",
   "metadata": {},
   "source": [
    "#  Application"
   ]
  },
  {
   "cell_type": "markdown",
   "id": "7dd86536",
   "metadata": {},
   "source": [
    "Nous voulons réaliser le programme Calculatrice.py qui affiche le menu suivant :\n",
    "\n",
    "********************************           \n",
    "*        1) Addition                                       \n",
    "*        2) Soustraction                                \n",
    "*        3) Multiplication                             \n",
    "*        4) Division                                        \n",
    "*        5) Quitter                                         \n",
    "********************************\n",
    "       \n",
    "choix ? 1  \n",
    " a ? 5  \n",
    " b ? 6  \n",
    " 5.000000 + 6.000000 = 11.000000\n"
   ]
  },
  {
   "cell_type": "code",
   "execution_count": 38,
   "id": "648aaae8",
   "metadata": {},
   "outputs": [
    {
     "name": "stdout",
     "output_type": "stream",
     "text": [
      "\n",
      "        1) Addition           \n",
      "        2) Soustraction       \n",
      "        3) Multiplication     \n",
      "        4) Division           \n",
      "        5) Quitter            \n",
      "choix ? 4\n",
      " a ? 8\n",
      " b ? 6\n",
      "8.0 / 6.0 = 1.3333333333333333\n",
      "\n",
      "        1) Addition           \n",
      "        2) Soustraction       \n",
      "        3) Multiplication     \n",
      "        4) Division           \n",
      "        5) Quitter            \n",
      "choix ? 4\n",
      " a ? 7\n",
      " b ? 5\n",
      "7.0 / 5.0 = 1.4\n",
      "\n",
      "        1) Addition           \n",
      "        2) Soustraction       \n",
      "        3) Multiplication     \n",
      "        4) Division           \n",
      "        5) Quitter            \n",
      "choix ? 1\n",
      " a ? 2\n",
      " b ? 2\n",
      "2.0 + 2.0 = 4.0\n",
      "\n",
      "        1) Addition           \n",
      "        2) Soustraction       \n",
      "        3) Multiplication     \n",
      "        4) Division           \n",
      "        5) Quitter            \n",
      "choix ? \n"
     ]
    },
    {
     "ename": "ValueError",
     "evalue": "invalid literal for int() with base 10: ''",
     "output_type": "error",
     "traceback": [
      "\u001b[1;31m---------------------------------------------------------------------------\u001b[0m",
      "\u001b[1;31mValueError\u001b[0m                                Traceback (most recent call last)",
      "Cell \u001b[1;32mIn[38], line 9\u001b[0m\n\u001b[0;32m      2\u001b[0m \u001b[38;5;28;01mwhile\u001b[39;00m \u001b[38;5;28;01mTrue\u001b[39;00m:\n\u001b[0;32m      3\u001b[0m     \u001b[38;5;28mprint\u001b[39m (\u001b[38;5;124m\"\"\"\u001b[39m\n\u001b[0;32m      4\u001b[0m \u001b[38;5;124m        1) Addition           \u001b[39m\n\u001b[0;32m      5\u001b[0m \u001b[38;5;124m        2) Soustraction       \u001b[39m\n\u001b[0;32m      6\u001b[0m \u001b[38;5;124m        3) Multiplication     \u001b[39m\n\u001b[0;32m      7\u001b[0m \u001b[38;5;124m        4) Division           \u001b[39m\n\u001b[0;32m      8\u001b[0m \u001b[38;5;124m        5) Quitter            \u001b[39m\u001b[38;5;124m\"\"\"\u001b[39m)\n\u001b[1;32m----> 9\u001b[0m     choix\u001b[38;5;241m=\u001b[39m\u001b[38;5;28mint\u001b[39m(\u001b[38;5;28minput\u001b[39m(\u001b[38;5;124m\"\u001b[39m\u001b[38;5;124mchoix ? \u001b[39m\u001b[38;5;124m\"\u001b[39m))\n\u001b[0;32m     10\u001b[0m     \u001b[38;5;28;01mif\u001b[39;00m choix\u001b[38;5;241m==\u001b[39m\u001b[38;5;241m5\u001b[39m :\n\u001b[0;32m     11\u001b[0m         \u001b[38;5;28;01mbreak\u001b[39;00m\n",
      "\u001b[1;31mValueError\u001b[0m: invalid literal for int() with base 10: ''"
     ]
    }
   ],
   "source": [
    "# Solution 1 (sans sous programmes):\n",
    "while True:\n",
    "    print (\"\"\"\n",
    "        1) Addition           \n",
    "        2) Soustraction       \n",
    "        3) Multiplication     \n",
    "        4) Division           \n",
    "        5) Quitter            \"\"\")\n",
    "    choix=int(input(\"choix ? \"))\n",
    "    if choix==5 :\n",
    "        break\n",
    "    else:\n",
    "        if choix<6 and choix >0 :\n",
    "            a=float(input(\" a ? \"))\n",
    "            b=float(input(\" b ? \"))\n",
    "            if(choix==1):\n",
    "                print (a,\"+\",b,\"=\",a+b)\n",
    "            elif(choix==2):\n",
    "                print (a,\"-\",b,\"=\",a-b)\n",
    "            elif(choix==3):\n",
    "                print (a,\"*\",b,\"=\",a*b)\n",
    "            elif(choix==4):\n",
    "                if(b!=0):\n",
    "                    print (a,\"/\",b,\"=\",a/b)\n",
    "                else:\n",
    "                    print (\"Erreur : division par zero !!!\")\n",
    "        else :\n",
    "            print (\"mauvais choix !!!\")\n",
    "print (\"au revoir\")"
   ]
  },
  {
   "cell_type": "markdown",
   "id": "860a9ca3",
   "metadata": {},
   "source": [
    "**Modifier le programme en utilisant les sous-programmes:  \n",
    "def addition (x1,x2)  \n",
    "def soustraction (x1,x2)  \n",
    "def multiplication (x1,x2)  \n",
    "def division (x1,x2)  \n",
    "def menu ()   \n",
    "def calculatrice (choix,a,b )**"
   ]
  },
  {
   "cell_type": "code",
   "execution_count": null,
   "id": "dad52243",
   "metadata": {},
   "outputs": [],
   "source": [
    "def addition(x1,x2):\n",
    "    return(x1,x2)\n",
    "print(x1,\"+\",x2,\"=\",x1+x2)\n",
    "    "
   ]
  },
  {
   "cell_type": "code",
   "execution_count": null,
   "id": "54e8e4f4",
   "metadata": {},
   "outputs": [],
   "source": [
    "def soustraction(x1,x2):\n",
    "    return(x1,x2)\n",
    "print(x1,\"-\",x2,\"=\",x1-x2)\n",
    "\n",
    "\n"
   ]
  },
  {
   "cell_type": "code",
   "execution_count": null,
   "id": "57f2d92a",
   "metadata": {},
   "outputs": [],
   "source": [
    "def multiplication(x1,x2):\n",
    "    return(x1,x2)\n",
    "print(x1,\"*\")\n"
   ]
  },
  {
   "cell_type": "code",
   "execution_count": null,
   "id": "4bb2c92e",
   "metadata": {},
   "outputs": [],
   "source": []
  }
 ],
 "metadata": {
  "kernelspec": {
   "display_name": "Python 3 (ipykernel)",
   "language": "python",
   "name": "python3"
  },
  "language_info": {
   "codemirror_mode": {
    "name": "ipython",
    "version": 3
   },
   "file_extension": ".py",
   "mimetype": "text/x-python",
   "name": "python",
   "nbconvert_exporter": "python",
   "pygments_lexer": "ipython3",
   "version": "3.11.5"
  }
 },
 "nbformat": 4,
 "nbformat_minor": 5
}
