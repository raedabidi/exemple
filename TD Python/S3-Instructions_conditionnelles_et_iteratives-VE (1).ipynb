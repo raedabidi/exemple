{
 "cells": [
  {
   "cell_type": "markdown",
   "id": "8e67b29a",
   "metadata": {},
   "source": [
    "# 1. Les instructions conditionnelles if / elif/ else"
   ]
  },
  {
   "cell_type": "markdown",
   "id": "63adde15",
   "metadata": {},
   "source": [
    "Dans un programme, les conditions permettent de faire des choix dépendants des différentes données que l’on peut retrouver dans notre programme.  \n",
    "$\\color{red}{\\text{Faites bien attention à l’indentation!}}$\n"
   ]
  },
  {
   "cell_type": "code",
   "execution_count": null,
   "id": "1151ebed",
   "metadata": {},
   "outputs": [],
   "source": [
    "#exemple 1:\n",
    "n=5\n",
    "if n==4:\n",
    "    print(\"c'est vrai!\")\n",
    "    print(\"c'est faux!\")\n",
    "print(\"la variable n = \",n)"
   ]
  },
  {
   "cell_type": "code",
   "execution_count": null,
   "id": "e5650150",
   "metadata": {},
   "outputs": [],
   "source": [
    "#exemple 2:\n",
    "n=5\n",
    "if n==4:\n",
    "    print(\"c'est vrai!\")\n",
    "print(\"c'est faux!\")\n",
    "print(\"la variable n = \",n)"
   ]
  },
  {
   "cell_type": "markdown",
   "id": "d1ec1a9d",
   "metadata": {},
   "source": [
    "Python est capable d’effectuer toute une série de comparaisons entre le contenu de deux variables, telles que :\n",
    "<img src=\"images/image5.png\" width=300, height=100>"
   ]
  },
  {
   "cell_type": "markdown",
   "id": "1bb061a2",
   "metadata": {},
   "source": [
    "L’expression de condition peut être une combinaison d’autres expressions:"
   ]
  },
  {
   "cell_type": "code",
   "execution_count": null,
   "id": "c61f8b36",
   "metadata": {},
   "outputs": [],
   "source": [
    "a,b,c,d=2,8,2.5,9.5\n",
    "#a=2\n",
    "#b=8\n",
    "\n",
    "if a>1 and b>1:\n",
    "    print('les deux entiers supérieurs à 1')\n",
    "if a>5 or b>5:\n",
    "    print(\"Au moins l'un des deux est supérieur à 5\")"
   ]
  },
  {
   "cell_type": "markdown",
   "id": "4928bd8d",
   "metadata": {},
   "source": [
    "<img src=\"images/image6.png\">"
   ]
  },
  {
   "cell_type": "markdown",
   "id": "6fffd7d1",
   "metadata": {},
   "source": [
    "<img src=\"images/image7.png\">"
   ]
  },
  {
   "cell_type": "code",
   "execution_count": null,
   "id": "d7a171fb",
   "metadata": {},
   "outputs": [],
   "source": [
    "#exemple: Saisir la moyenne et afficher la mention convenable de l'etudiant\n",
    "#fix me"
   ]
  },
  {
   "cell_type": "markdown",
   "id": "ab46cf91",
   "metadata": {},
   "source": [
    "# 2. Les instructions itératives"
   ]
  },
  {
   "cell_type": "markdown",
   "id": "c57125d6",
   "metadata": {},
   "source": [
    "## 2.1. Boucle itérative for"
   ]
  },
  {
   "cell_type": "code",
   "execution_count": null,
   "id": "80cdbba5",
   "metadata": {},
   "outputs": [],
   "source": [
    "#Exemple 1\n",
    "ch=\"abc\"\n",
    "#fix me :# v Permet le parcours d’une séquence (une liste ou une chaîne de caractères)\n",
    "    print(v)\n",
    "#fix me:\n",
    "    print (v , end=\" \")# le end=\" \" Permet de rester sur la même ligne après l’affichage de i"
   ]
  },
  {
   "cell_type": "code",
   "execution_count": null,
   "id": "b9397bf8",
   "metadata": {},
   "outputs": [],
   "source": [
    "#Exemple 2\n",
    "#fix me: #Permet de faire varier i entre 10 et 20 avec un pas de 3\n",
    "    print(i)"
   ]
  },
  {
   "cell_type": "code",
   "execution_count": null,
   "id": "c18fa11e",
   "metadata": {},
   "outputs": [],
   "source": [
    "#Exemple 3\n",
    "for i in range(11,5,-1):\n",
    "    print(i)"
   ]
  },
  {
   "cell_type": "markdown",
   "id": "35a4f999",
   "metadata": {},
   "source": [
    "## 2.2 Boucle itérative while"
   ]
  },
  {
   "cell_type": "markdown",
   "id": "4ca3a79f",
   "metadata": {},
   "source": [
    "Une boucle $\\color{green}{\\text{while}}$ répète les instructions tant que la condition d’entrée est vérifiée (True).\n",
    "<img src=\"images/image9.png\">"
   ]
  },
  {
   "cell_type": "markdown",
   "id": "cfd7bbef",
   "metadata": {},
   "source": [
    "La boucle $\\color{green}{\\text{for}}$ permet de parcourir une liste et renvoyer toutes les valeurs de la liste dans une variable définie dans la boucle.  \n",
    "<img src=\"images/image8.png\" width=550, height=550>"
   ]
  },
  {
   "cell_type": "code",
   "execution_count": null,
   "id": "7730d4e4",
   "metadata": {},
   "outputs": [],
   "source": [
    "#Exemple 1\n",
    "    "
   ]
  },
  {
   "cell_type": "code",
   "execution_count": null,
   "id": "8fbe3270",
   "metadata": {},
   "outputs": [],
   "source": [
    "#Exemple 2\n",
    "\n",
    "#fix me: #Permet de faire varier i entre 10 et 20 avec un pas de 3\n",
    "    print(i)\n",
    "    #fix me\n",
    "print('fin boucle while avec i =',i)"
   ]
  },
  {
   "cell_type": "code",
   "execution_count": null,
   "id": "8fd6d7d4",
   "metadata": {},
   "outputs": [],
   "source": [
    "i=0\n",
    "while i<5:\n",
    "    print(i,end=\"-\")\n",
    "    i+=1"
   ]
  },
  {
   "cell_type": "code",
   "execution_count": null,
   "id": "8db386aa",
   "metadata": {},
   "outputs": [],
   "source": []
  },
  {
   "cell_type": "markdown",
   "id": "ed803076",
   "metadata": {},
   "source": [
    "## 2.3 Instructions break et continue"
   ]
  },
  {
   "cell_type": "markdown",
   "id": "de37f597",
   "metadata": {},
   "source": [
    "Ces deux instructions permettent de modifier le comportement d’une boucle (for ou while) avec un test:   \n",
    "L’instruction $\\color{red}{\\text{break}}$ stoppe la boucle.   \n",
    "L’instruction $\\color{red}{\\text{continue}}$ saute à l’itération suivante, sans exécuter la suite du bloc d’instructions de la boucle.  "
   ]
  },
  {
   "cell_type": "code",
   "execution_count": null,
   "id": "a176bd0b",
   "metadata": {},
   "outputs": [],
   "source": [
    "#Exemple 1\n",
    "for i in range(5):\n",
    "    #fix me:\n",
    "        #fix me\n",
    "    print(i"
   ]
  },
  {
   "cell_type": "code",
   "execution_count": null,
   "id": "0485d30d",
   "metadata": {},
   "outputs": [],
   "source": [
    "#Exemple 2\n",
    "for #fix me:\n",
    "    #fix me:\n",
    "        #fix me\n",
    "    print(i)"
   ]
  },
  {
   "cell_type": "markdown",
   "id": "44c7b57a",
   "metadata": {},
   "source": [
    "## 2.4. Equivalent de do ….. While"
   ]
  },
  {
   "cell_type": "markdown",
   "id": "f666ec95",
   "metadata": {},
   "source": [
    "Dans de nombreux langages, on trouve l’instruction $\\color{red}{\\text{do…while}}$   \n",
    "On ne connaît pas à l’avance le nombre de répétition.  \n",
    "Elle  doit s’exécuter au moins une fois.  \n",
    "Cette instruction n’existe pas en Python ==> On reproduire son fonctionnement de la façon suivante :\n"
   ]
  },
  {
   "cell_type": "code",
   "execution_count": null,
   "id": "62bd31a4",
   "metadata": {},
   "outputs": [],
   "source": [
    "while True:\n",
    "    n=int(input(\"donner un entier: \"))\n",
    "    print('vous avez fourni: ',n)\n",
    "    if n>0 and n<=20:\n",
    "        break\n",
    "print(\"reponse correcte\")"
   ]
  },
  {
   "cell_type": "markdown",
   "id": "ec6fe238",
   "metadata": {},
   "source": [
    "# 3. Applications"
   ]
  },
  {
   "attachments": {
    "image.png": {
     "image/png": "[encoded data removed]"
    }
   },
   "cell_type": "markdown",
   "id": "d9a21971",
   "metadata": {},
   "source": [
    "## Application 1\n",
    "Soit l’équation du second degré 𝑎𝑥2+𝑏𝑥+𝑐=0 où a>0, b et c sont des coefficients réels.  \n",
    "Écrire un programme qui saisit les coefficients et affiche les solutions de l’équation.  \n",
    "<bold> Indication :</bold> Les solutions sont cherchées dans les réels. Ainsi, dans le cas général, en considérant le discriminant Δ=𝑏2−4𝑎𝑐, l’équation admet comme solutions analytiques :\n",
    "![image.png](attachment:image.png)"
   ]
  },
  {
   "cell_type": "code",
   "execution_count": 8,
   "id": "c4b9ca19",
   "metadata": {},
   "outputs": [],
   "source": [
    "#Solution \n",
    "#fix me"
   ]
  },
  {
   "cell_type": "markdown",
   "id": "fe9e971a",
   "metadata": {},
   "source": [
    "##  Application 2\n",
    "Nous désirons écrire le programme permettant l’affichage suivant:   \n",
    "Compteur=0  \n",
    "Compteur=1  \n",
    "Compteur=2  \n",
    "Compteur=3  \n",
    "Compteur=4  "
   ]
  },
  {
   "cell_type": "code",
   "execution_count": null,
   "id": "389dfbfc",
   "metadata": {},
   "outputs": [],
   "source": [
    "#Solution 1 : avec boucle while\n"
   ]
  },
  {
   "cell_type": "code",
   "execution_count": null,
   "id": "3ba3c99e",
   "metadata": {},
   "outputs": [],
   "source": [
    "#Solution 2: avec boucle for\n",
    "\n",
    "    "
   ]
  },
  {
   "cell_type": "markdown",
   "id": "3d0a9630",
   "metadata": {},
   "source": [
    "##  Application 2\n",
    "Nous voulons écrire le programme qui demande à l’utilisateur de saisir  une valeur N au clavier.  \n",
    "Puis le programme se met à compter de zéro à N.   \n",
    "Entrez la valeur de N ?  \n",
    "4  \n",
    "\n",
    "Compteur=0  \n",
    "Compteur=1  \n",
    "Compteur=2  \n",
    "Compteur=3  \n",
    "Compteur=4  "
   ]
  },
  {
   "cell_type": "code",
   "execution_count": null,
   "id": "6c40ac49",
   "metadata": {},
   "outputs": [],
   "source": [
    "#Solution 1 avec boucle while :\n"
   ]
  },
  {
   "cell_type": "code",
   "execution_count": null,
   "id": "d82181fd",
   "metadata": {},
   "outputs": [],
   "source": [
    "#Solution 2 avec boucle for :\n"
   ]
  },
  {
   "attachments": {
    "image.png": {
     "image/png": "[encoded data removed]"
    }
   },
   "cell_type": "markdown",
   "id": "b5186041",
   "metadata": {},
   "source": [
    "##  Application 3\n",
    "Nous voulons écrire le programme qui demande à l’utilisateur de saisir  une valeur N au clavier.  \n",
    "Puis le programme se met à compter de zéro à N.  \n",
    "Entrez la valeur de N ?\n",
    "4\n",
    "Compteur=0\n",
    "Compteur=1\n",
    "Compteur=2\n",
    "Compteur=3\n",
    "Compteur=4![image.png](attachment:image.png) "
   ]
  },
  {
   "cell_type": "code",
   "execution_count": null,
   "id": "e2ca74e6",
   "metadata": {},
   "outputs": [],
   "source": [
    "#Solution 1 avec boucle for version 1:\n",
    "#fix me"
   ]
  },
  {
   "cell_type": "code",
   "execution_count": null,
   "id": "bc08e8a1",
   "metadata": {},
   "outputs": [],
   "source": [
    "#Solution 1 avec boucle for version 2:\n",
    "#fix me"
   ]
  },
  {
   "cell_type": "markdown",
   "id": "68a0a60f",
   "metadata": {},
   "source": [
    "##  Application 4\n",
    "Afficher les nombres paires entre 0 et 10."
   ]
  },
  {
   "cell_type": "code",
   "execution_count": null,
   "id": "131fdca2",
   "metadata": {},
   "outputs": [],
   "source": []
  },
  {
   "cell_type": "code",
   "execution_count": null,
   "id": "b5b2332a",
   "metadata": {},
   "outputs": [],
   "source": []
  }
 ],
 "metadata": {
  "kernelspec": {
   "display_name": "Python 3 (ipykernel)",
   "language": "python",
   "name": "python3"
  },
  "language_info": {
   "codemirror_mode": {
    "name": "ipython",
    "version": 3
   },
   "file_extension": ".py",
   "mimetype": "text/x-python",
   "name": "python",
   "nbconvert_exporter": "python",
   "pygments_lexer": "ipython3",
   "version": "3.11.5"
  }
 },
 "nbformat": 4,
 "nbformat_minor": 5
}
