{
 "cells": [
  {
   "cell_type": "code",
   "execution_count": null,
   "id": "d340ad58",
   "metadata": {},
   "outputs": [],
   "source": [
    "l1=input(\"saisir une chaine \")\n",
    "s1=set(ch)\n",
    "for i in s1:\n",
    "    print(i,\"=\",ch.count(i))\n",
    "if len(ch)>=2:\n",
    "    print(ch)\n",
    "        "
   ]
  }
 ],
 "metadata": {
  "kernelspec": {
   "display_name": "Python 3 (ipykernel)",
   "language": "python",
   "name": "python3"
  },
  "language_info": {
   "codemirror_mode": {
    "name": "ipython",
    "version": 3
   },
   "file_extension": ".py",
   "mimetype": "text/x-python",
   "name": "python",
   "nbconvert_exporter": "python",
   "pygments_lexer": "ipython3",
   "version": "3.11.5"
  }
 },
 "nbformat": 4,
 "nbformat_minor": 5
}
